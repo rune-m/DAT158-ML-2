{
  "nbformat": 4,
  "nbformat_minor": 0,
  "metadata": {
    "colab": {
      "name": "tmdb-revenue.ipynb",
      "provenance": [],
      "collapsed_sections": [
        "RSNqXzpLu6WQ",
        "MOOGmc9t_Wod",
        "AJxpJM4pei_I",
        "CP10Anvb_f8p",
        "BCC5g4drdbbW",
        "aHMScFmi9w_e",
        "jMAGECLY977x",
        "whzl9IH59Mlu",
        "u8IM2Lu65eGd",
        "YjwIcp2g9V0b",
        "3S21WtwQ-oxP",
        "5whx868qAcM2",
        "5_icc6ExGhP5",
        "ywY8ILpkGpSg",
        "ViB3xhx6JdhY",
        "yCHgebdfGV3A",
        "kzVgbdv6GbUs",
        "hMgz-hdoR62u",
        "ndNNAFHwqS_N",
        "zmzLRD-OLUPD",
        "y3_KbRVZxfPW",
        "gphbqrn5ZMuC",
        "P3XJbB-xr9eA",
        "yzE2Qdhj4OmU",
        "3pCgv1i4GuGF",
        "OgbLBhqZp8Mn",
        "qOkHNpYuqGz-",
        "DeNguhZljx76",
        "c0DRTZSJrv9S",
        "5i3XHs6zujvd",
        "NLThxfaG1kBA",
        "dFtXi9Sd2_1f",
        "jbcJc5Bwzk_u",
        "IFtwr8RQz4Hv",
        "zqKSMPWz4j6A",
        "OxdCsZhD93YU",
        "KUPIH0meB_UP",
        "9GLhCb6P4-_I",
        "4kbIyFgvpt_9",
        "bo_urGbHbpV0",
        "AdvqcpmPaOh3",
        "RLyRI3uaaRDM",
        "XvD-gXuc4IIb",
        "sMy743pP5V79",
        "BYc2qjmq3BJb",
        "VVgQ2sDjgwgX",
        "i74v4sg_fnlv"
      ]
    },
    "kernelspec": {
      "display_name": "Python 3",
      "name": "python3"
    },
    "language_info": {
      "name": "python"
    }
  },
  "cells": [
    {
      "cell_type": "markdown",
      "metadata": {
        "id": "RSNqXzpLu6WQ"
      },
      "source": [
        "# Setup"
      ]
    },
    {
      "cell_type": "markdown",
      "metadata": {
        "id": "MOOGmc9t_Wod"
      },
      "source": [
        "### Import"
      ]
    },
    {
      "cell_type": "code",
      "metadata": {
        "id": "C_w0QFaciWum",
        "colab": {
          "base_uri": "https://localhost:8080/"
        },
        "outputId": "cb1873e2-2d48-4348-f7d8-a3a702308d48"
      },
      "source": [
        "import numpy as np\n",
        "import pandas as pd\n",
        "import matplotlib.pyplot as plt\n",
        "from pandas import json_normalize\n",
        "import json\n",
        "import os\n",
        "import seaborn as sn\n",
        "\n",
        "from google.colab import drive\n",
        "drive.mount('/content/drive')"
      ],
      "execution_count": 2,
      "outputs": [
        {
          "output_type": "stream",
          "name": "stdout",
          "text": [
            "Mounted at /content/drive\n"
          ]
        }
      ]
    },
    {
      "cell_type": "markdown",
      "metadata": {
        "id": "AJxpJM4pei_I"
      },
      "source": [
        "## Discover"
      ]
    },
    {
      "cell_type": "markdown",
      "metadata": {
        "id": "lU6wwiDnwk97"
      },
      "source": [
        "Remove:\n",
        "- id\n",
        "- imdb_id\n",
        "- original_title\n",
        "- overview\n",
        "- poster_path\n",
        "- tagline\n",
        "- title\n",
        "- Keywords?\n",
        "- genres?\n",
        "- release_date"
      ]
    },
    {
      "cell_type": "code",
      "metadata": {
        "id": "G8mBlYpatvWL"
      },
      "source": [
        "train = pd.read_csv('/content/drive/MyDrive/Machine Learning/ML datasets/tmdb_movie_data/train.csv')\n",
        "train = train.drop(['imdb_id', 'original_title', 'overview', 'poster_path', 'tagline', 'title', 'Keywords'], axis=1)"
      ],
      "execution_count": 3,
      "outputs": []
    },
    {
      "cell_type": "code",
      "metadata": {
        "id": "jIDq6x0733Zs",
        "colab": {
          "base_uri": "https://localhost:8080/"
        },
        "outputId": "2d4f729e-e0f2-4ad0-fbf3-17e18bf72eff"
      },
      "source": [
        "train.info()"
      ],
      "execution_count": 4,
      "outputs": [
        {
          "output_type": "stream",
          "name": "stdout",
          "text": [
            "<class 'pandas.core.frame.DataFrame'>\n",
            "RangeIndex: 3000 entries, 0 to 2999\n",
            "Data columns (total 16 columns):\n",
            " #   Column                 Non-Null Count  Dtype  \n",
            "---  ------                 --------------  -----  \n",
            " 0   id                     3000 non-null   int64  \n",
            " 1   belongs_to_collection  604 non-null    object \n",
            " 2   budget                 3000 non-null   int64  \n",
            " 3   genres                 2993 non-null   object \n",
            " 4   homepage               946 non-null    object \n",
            " 5   original_language      3000 non-null   object \n",
            " 6   popularity             3000 non-null   float64\n",
            " 7   production_companies   2844 non-null   object \n",
            " 8   production_countries   2945 non-null   object \n",
            " 9   release_date           3000 non-null   object \n",
            " 10  runtime                2998 non-null   float64\n",
            " 11  spoken_languages       2980 non-null   object \n",
            " 12  status                 3000 non-null   object \n",
            " 13  cast                   2987 non-null   object \n",
            " 14  crew                   2984 non-null   object \n",
            " 15  revenue                3000 non-null   int64  \n",
            "dtypes: float64(2), int64(3), object(11)\n",
            "memory usage: 375.1+ KB\n"
          ]
        }
      ]
    },
    {
      "cell_type": "code",
      "metadata": {
        "id": "GTq37ZydCMQ3",
        "colab": {
          "base_uri": "https://localhost:8080/",
          "height": 530
        },
        "outputId": "65d7d7b3-8816-40d2-de7f-5f50b5811633"
      },
      "source": [
        "train.head(5)"
      ],
      "execution_count": 5,
      "outputs": [
        {
          "output_type": "execute_result",
          "data": {
            "text/html": [
              "<div>\n",
              "<style scoped>\n",
              "    .dataframe tbody tr th:only-of-type {\n",
              "        vertical-align: middle;\n",
              "    }\n",
              "\n",
              "    .dataframe tbody tr th {\n",
              "        vertical-align: top;\n",
              "    }\n",
              "\n",
              "    .dataframe thead th {\n",
              "        text-align: right;\n",
              "    }\n",
              "</style>\n",
              "<table border=\"1\" class=\"dataframe\">\n",
              "  <thead>\n",
              "    <tr style=\"text-align: right;\">\n",
              "      <th></th>\n",
              "      <th>id</th>\n",
              "      <th>belongs_to_collection</th>\n",
              "      <th>budget</th>\n",
              "      <th>genres</th>\n",
              "      <th>homepage</th>\n",
              "      <th>original_language</th>\n",
              "      <th>popularity</th>\n",
              "      <th>production_companies</th>\n",
              "      <th>production_countries</th>\n",
              "      <th>release_date</th>\n",
              "      <th>runtime</th>\n",
              "      <th>spoken_languages</th>\n",
              "      <th>status</th>\n",
              "      <th>cast</th>\n",
              "      <th>crew</th>\n",
              "      <th>revenue</th>\n",
              "    </tr>\n",
              "  </thead>\n",
              "  <tbody>\n",
              "    <tr>\n",
              "      <th>0</th>\n",
              "      <td>1</td>\n",
              "      <td>[{'id': 313576, 'name': 'Hot Tub Time Machine ...</td>\n",
              "      <td>14000000</td>\n",
              "      <td>[{'id': 35, 'name': 'Comedy'}]</td>\n",
              "      <td>NaN</td>\n",
              "      <td>en</td>\n",
              "      <td>6.575393</td>\n",
              "      <td>[{'name': 'Paramount Pictures', 'id': 4}, {'na...</td>\n",
              "      <td>[{'iso_3166_1': 'US', 'name': 'United States o...</td>\n",
              "      <td>2/20/15</td>\n",
              "      <td>93.0</td>\n",
              "      <td>[{'iso_639_1': 'en', 'name': 'English'}]</td>\n",
              "      <td>Released</td>\n",
              "      <td>[{'cast_id': 4, 'character': 'Lou', 'credit_id...</td>\n",
              "      <td>[{'credit_id': '59ac067c92514107af02c8c8', 'de...</td>\n",
              "      <td>12314651</td>\n",
              "    </tr>\n",
              "    <tr>\n",
              "      <th>1</th>\n",
              "      <td>2</td>\n",
              "      <td>[{'id': 107674, 'name': 'The Princess Diaries ...</td>\n",
              "      <td>40000000</td>\n",
              "      <td>[{'id': 35, 'name': 'Comedy'}, {'id': 18, 'nam...</td>\n",
              "      <td>NaN</td>\n",
              "      <td>en</td>\n",
              "      <td>8.248895</td>\n",
              "      <td>[{'name': 'Walt Disney Pictures', 'id': 2}]</td>\n",
              "      <td>[{'iso_3166_1': 'US', 'name': 'United States o...</td>\n",
              "      <td>8/6/04</td>\n",
              "      <td>113.0</td>\n",
              "      <td>[{'iso_639_1': 'en', 'name': 'English'}]</td>\n",
              "      <td>Released</td>\n",
              "      <td>[{'cast_id': 1, 'character': 'Mia Thermopolis'...</td>\n",
              "      <td>[{'credit_id': '52fe43fe9251416c7502563d', 'de...</td>\n",
              "      <td>95149435</td>\n",
              "    </tr>\n",
              "    <tr>\n",
              "      <th>2</th>\n",
              "      <td>3</td>\n",
              "      <td>NaN</td>\n",
              "      <td>3300000</td>\n",
              "      <td>[{'id': 18, 'name': 'Drama'}]</td>\n",
              "      <td>http://sonyclassics.com/whiplash/</td>\n",
              "      <td>en</td>\n",
              "      <td>64.299990</td>\n",
              "      <td>[{'name': 'Bold Films', 'id': 2266}, {'name': ...</td>\n",
              "      <td>[{'iso_3166_1': 'US', 'name': 'United States o...</td>\n",
              "      <td>10/10/14</td>\n",
              "      <td>105.0</td>\n",
              "      <td>[{'iso_639_1': 'en', 'name': 'English'}]</td>\n",
              "      <td>Released</td>\n",
              "      <td>[{'cast_id': 5, 'character': 'Andrew Neimann',...</td>\n",
              "      <td>[{'credit_id': '54d5356ec3a3683ba0000039', 'de...</td>\n",
              "      <td>13092000</td>\n",
              "    </tr>\n",
              "    <tr>\n",
              "      <th>3</th>\n",
              "      <td>4</td>\n",
              "      <td>NaN</td>\n",
              "      <td>1200000</td>\n",
              "      <td>[{'id': 53, 'name': 'Thriller'}, {'id': 18, 'n...</td>\n",
              "      <td>http://kahaanithefilm.com/</td>\n",
              "      <td>hi</td>\n",
              "      <td>3.174936</td>\n",
              "      <td>NaN</td>\n",
              "      <td>[{'iso_3166_1': 'IN', 'name': 'India'}]</td>\n",
              "      <td>3/9/12</td>\n",
              "      <td>122.0</td>\n",
              "      <td>[{'iso_639_1': 'en', 'name': 'English'}, {'iso...</td>\n",
              "      <td>Released</td>\n",
              "      <td>[{'cast_id': 1, 'character': 'Vidya Bagchi', '...</td>\n",
              "      <td>[{'credit_id': '52fe48779251416c9108d6eb', 'de...</td>\n",
              "      <td>16000000</td>\n",
              "    </tr>\n",
              "    <tr>\n",
              "      <th>4</th>\n",
              "      <td>5</td>\n",
              "      <td>NaN</td>\n",
              "      <td>0</td>\n",
              "      <td>[{'id': 28, 'name': 'Action'}, {'id': 53, 'nam...</td>\n",
              "      <td>NaN</td>\n",
              "      <td>ko</td>\n",
              "      <td>1.148070</td>\n",
              "      <td>NaN</td>\n",
              "      <td>[{'iso_3166_1': 'KR', 'name': 'South Korea'}]</td>\n",
              "      <td>2/5/09</td>\n",
              "      <td>118.0</td>\n",
              "      <td>[{'iso_639_1': 'ko', 'name': '한국어/조선말'}]</td>\n",
              "      <td>Released</td>\n",
              "      <td>[{'cast_id': 3, 'character': 'Chun-soo', 'cred...</td>\n",
              "      <td>[{'credit_id': '52fe464b9251416c75073b43', 'de...</td>\n",
              "      <td>3923970</td>\n",
              "    </tr>\n",
              "  </tbody>\n",
              "</table>\n",
              "</div>"
            ],
            "text/plain": [
              "   id  ...   revenue\n",
              "0   1  ...  12314651\n",
              "1   2  ...  95149435\n",
              "2   3  ...  13092000\n",
              "3   4  ...  16000000\n",
              "4   5  ...   3923970\n",
              "\n",
              "[5 rows x 16 columns]"
            ]
          },
          "metadata": {},
          "execution_count": 5
        }
      ]
    },
    {
      "cell_type": "code",
      "metadata": {
        "colab": {
          "base_uri": "https://localhost:8080/"
        },
        "id": "YDRMM5fo4OJw",
        "outputId": "24586bf9-7a50-46cf-900f-f272d6c70cbd"
      },
      "source": [
        "train.revenue.mean()\n",
        "\n",
        "train.loc[2]"
      ],
      "execution_count": 6,
      "outputs": [
        {
          "output_type": "execute_result",
          "data": {
            "text/plain": [
              "id                                                                       3\n",
              "belongs_to_collection                                                  NaN\n",
              "budget                                                             3300000\n",
              "genres                                       [{'id': 18, 'name': 'Drama'}]\n",
              "homepage                                 http://sonyclassics.com/whiplash/\n",
              "original_language                                                       en\n",
              "popularity                                                            64.3\n",
              "production_companies     [{'name': 'Bold Films', 'id': 2266}, {'name': ...\n",
              "production_countries     [{'iso_3166_1': 'US', 'name': 'United States o...\n",
              "release_date                                                      10/10/14\n",
              "runtime                                                                105\n",
              "spoken_languages                  [{'iso_639_1': 'en', 'name': 'English'}]\n",
              "status                                                            Released\n",
              "cast                     [{'cast_id': 5, 'character': 'Andrew Neimann',...\n",
              "crew                     [{'credit_id': '54d5356ec3a3683ba0000039', 'de...\n",
              "revenue                                                           13092000\n",
              "Name: 2, dtype: object"
            ]
          },
          "metadata": {},
          "execution_count": 6
        }
      ]
    },
    {
      "cell_type": "markdown",
      "metadata": {
        "id": "CP10Anvb_f8p"
      },
      "source": [
        "## Read data"
      ]
    },
    {
      "cell_type": "code",
      "metadata": {
        "id": "cZC2dZuR_fKJ"
      },
      "source": [
        "data = pd.read_csv('/content/drive/MyDrive/Machine Learning/ML datasets/tmdb_movie_data/train.csv')"
      ],
      "execution_count": 7,
      "outputs": []
    },
    {
      "cell_type": "markdown",
      "metadata": {
        "id": "BCC5g4drdbbW"
      },
      "source": [
        "# Split to test and train set"
      ]
    },
    {
      "cell_type": "markdown",
      "metadata": {
        "id": "d_qzS9HCgVLE"
      },
      "source": [
        "Splitting the data into train and test set"
      ]
    },
    {
      "cell_type": "code",
      "metadata": {
        "id": "sbAUbEqNeo8Q",
        "colab": {
          "base_uri": "https://localhost:8080/",
          "height": 88
        },
        "outputId": "82ca5c39-3496-4a97-8d3f-b1246add4143"
      },
      "source": [
        "from sklearn.model_selection import StratifiedShuffleSplit\n",
        "from sklearn.model_selection import train_test_split\n",
        "\n",
        "y = data['revenue']\n",
        "X = data.drop('revenue', axis=1)\n",
        "\n",
        "X_train, y_train, X_test, y_test = train_test_split(X, y, test_size=0.2, random_state=42)\n",
        "y_test.shape\n",
        "\n",
        "train = data"
      ],
      "execution_count": 8,
      "outputs": [
        {
          "output_type": "execute_result",
          "data": {
            "application/vnd.google.colaboratory.intrinsic+json": {
              "type": "string"
            },
            "text/plain": [
              "'\\ntrain.budget.replace(0,train.budget.mean,inplace=True)\\n\\ntrain[\\'budget_cat\\'] = pd.cut(train[\\'budget\\'],\\n                         bins=[0.,3000000.,10000000.,50000000.,150000000.,np.inf],\\n                         labels=[1,2,3,4,5])\\n\\nsplit = StratifiedShuffleSplit(n_splits=1, test_size=0.2, random_state=42)\\nfor train_index, test_index in split.split(train, train[\\'budget_cat\\']):\\n    strat_train_set = train.loc[train_index]\\n    strat_test_set = train.loc[test_index]\\n    \\nstrat_test_set[\"budget_cat\"].value_counts() / len(strat_test_set)\\n'"
            ]
          },
          "metadata": {},
          "execution_count": 8
        }
      ]
    },
    {
      "cell_type": "markdown",
      "metadata": {
        "id": "aHMScFmi9w_e"
      },
      "source": [
        "# Feature engineering"
      ]
    },
    {
      "cell_type": "markdown",
      "metadata": {
        "id": "jMAGECLY977x"
      },
      "source": [
        "## Features to numbers"
      ]
    },
    {
      "cell_type": "markdown",
      "metadata": {
        "id": "rbbxZjYJgZqE"
      },
      "source": [
        "Creating functions to convert all raw data from set into floats"
      ]
    },
    {
      "cell_type": "markdown",
      "metadata": {
        "id": "whzl9IH59Mlu"
      },
      "source": [
        "### genres"
      ]
    },
    {
      "cell_type": "markdown",
      "metadata": {
        "id": "6YrDBJp5-K_M"
      },
      "source": [
        "Print all genres and genre count"
      ]
    },
    {
      "cell_type": "code",
      "metadata": {
        "id": "MEOO5b-CzrXG"
      },
      "source": [
        "def count_genres(df):\n",
        "  genre_count = {}\n",
        "\n",
        "  for i, data in enumerate(df['genres']):\n",
        "    if data is not np.nan:\n",
        "      genres = eval(data)\n",
        "      for genre in genres:\n",
        "        name = genre['name']\n",
        "        if name in genre_count:\n",
        "          genre_count[name] += 1\n",
        "        else:\n",
        "          genre_count[name] = 1\n",
        "\n",
        "  for k, v in genre_count.items():\n",
        "    print(k, v)\n",
        "\n",
        "  print(len(genre_count))"
      ],
      "execution_count": 9,
      "outputs": []
    },
    {
      "cell_type": "markdown",
      "metadata": {
        "id": "fOB8ALQo_RED"
      },
      "source": [
        "Create column for each genre, create column for number of genres in a movie"
      ]
    },
    {
      "cell_type": "code",
      "metadata": {
        "id": "--pV9wPS_Ls_"
      },
      "source": [
        "def create_genre_cols(df):\n",
        "  # is_genre = 0 or 1\n",
        "  for row in df.itertuples():\n",
        "    if pd.notnull(row.genres):\n",
        "      n = np.array(eval(row.genres))\n",
        "      df.loc[row.Index, 'num_genres'] = len(n)\n",
        "      for instance in n:\n",
        "        genre_col = 'is_' + instance['name'].replace(\" \", \"_\").lower()\n",
        "        df.loc[row.Index, genre_col] = 1\n",
        "    else:\n",
        "      df.loc[row.Index, 'num_genres'] = 0\n",
        "\n",
        "  # Set all is_genre with value NaN to 0\n",
        "  for i, row in df.iterrows():\n",
        "    for col in df.columns.values:\n",
        "      if 'is' in col:\n",
        "        if 'nan' in str(row[col]):\n",
        "          df.loc[i, col] = 0\n",
        "\n",
        "  return df\n"
      ],
      "execution_count": 10,
      "outputs": []
    },
    {
      "cell_type": "markdown",
      "metadata": {
        "id": "u8IM2Lu65eGd"
      },
      "source": [
        "### is_tv_movie\n",
        "\n",
        "Deleting is_tv_movie col since there is only 1 movie with that genre. Then train and test set get the same amount of columns."
      ]
    },
    {
      "cell_type": "code",
      "metadata": {
        "id": "AwZhxtqf5h2n"
      },
      "source": [
        "def is_tv_movie_exists(df):\n",
        "  return 'is_tv_movie' in list(df)"
      ],
      "execution_count": 11,
      "outputs": []
    },
    {
      "cell_type": "markdown",
      "metadata": {
        "id": "YjwIcp2g9V0b"
      },
      "source": [
        "### belongs_to_collection & homepage"
      ]
    },
    {
      "cell_type": "code",
      "metadata": {
        "id": "C8uIrWvR9oFF"
      },
      "source": [
        "def has_value(col):\n",
        "  values = []\n",
        "  for i, data in enumerate(col):\n",
        "    if data is not np.nan:\n",
        "      values.append(1)\n",
        "    else:\n",
        "      values.append(0)\n",
        "  return values\n"
      ],
      "execution_count": 12,
      "outputs": []
    },
    {
      "cell_type": "markdown",
      "metadata": {
        "id": "3S21WtwQ-oxP"
      },
      "source": [
        "### original_language"
      ]
    },
    {
      "cell_type": "code",
      "metadata": {
        "id": "heTJUVLX-u4Z"
      },
      "source": [
        "from sklearn.preprocessing import OrdinalEncoder\n",
        "\n",
        "def enc_original_language(df):\n",
        "  enc = OrdinalEncoder()\n",
        "  df['original_language'] = enc.fit_transform(df[['original_language']])\n",
        "  return df\n"
      ],
      "execution_count": 13,
      "outputs": []
    },
    {
      "cell_type": "markdown",
      "metadata": {
        "id": "5whx868qAcM2"
      },
      "source": [
        "### production_companies"
      ]
    },
    {
      "cell_type": "markdown",
      "metadata": {
        "id": "1L0_hh01jAFs"
      },
      "source": [
        "Changing the array of production companies to the lowest id. The well known companies generally have lowest ids."
      ]
    },
    {
      "cell_type": "code",
      "metadata": {
        "id": "HtT71DZ0AzlD"
      },
      "source": [
        "def get_lowest_company_id(df):\n",
        "  label = 'production_companies'\n",
        "\n",
        "  for row in df.itertuples():\n",
        "    col = row.production_companies\n",
        "    if pd.notnull(row.production_companies):\n",
        "      n = np.array(eval(col))\n",
        "      ids = np.array([])\n",
        "      for instance in n:\n",
        "        json_id = \"\"\n",
        "        for json_key in instance:\n",
        "          if \"id\" in json_key:\n",
        "            json_id = json_key\n",
        "        ids = np.append(ids, instance[json_id])\n",
        "      df.loc[row.Index, label] = ids.min()\n",
        "  return df\n"
      ],
      "execution_count": 14,
      "outputs": []
    },
    {
      "cell_type": "markdown",
      "metadata": {
        "id": "5_icc6ExGhP5"
      },
      "source": [
        "### production_coutries"
      ]
    },
    {
      "cell_type": "markdown",
      "metadata": {
        "id": "4uB6k-Rqd38_"
      },
      "source": [
        "Check occurences of production countries"
      ]
    },
    {
      "cell_type": "code",
      "metadata": {
        "id": "scXzGNd5dpkd",
        "colab": {
          "base_uri": "https://localhost:8080/"
        },
        "outputId": "0e7d3752-23d6-4d78-98ba-8b4477832686"
      },
      "source": [
        "lang_count = {}\n",
        "\n",
        "for i, row in enumerate(data['production_countries']):\n",
        "  if row is not np.nan:\n",
        "    languages = eval(row)\n",
        "    for lang in languages:\n",
        "      name = lang['iso_3166_1']\n",
        "      if name in lang_count:\n",
        "        lang_count[name] += 1\n",
        "      else:\n",
        "        lang_count[name] = 1\n",
        "\n",
        "for k, v in lang_count.items():\n",
        "  print(k, v)\n",
        "\n",
        "print(len(lang_count))"
      ],
      "execution_count": 15,
      "outputs": [
        {
          "output_type": "stream",
          "name": "stdout",
          "text": [
            "US 2282\n",
            "IN 81\n",
            "KR 22\n",
            "CA 120\n",
            "RS 2\n",
            "GB 380\n",
            "AT 8\n",
            "DE 167\n",
            "FR 222\n",
            "NZ 17\n",
            "JP 61\n",
            "IE 23\n",
            "IT 64\n",
            "IL 5\n",
            "BE 23\n",
            "CZ 14\n",
            "CN 42\n",
            "BR 12\n",
            "AR 6\n",
            "CL 6\n",
            "PE 1\n",
            "HK 42\n",
            "RU 58\n",
            "ES 54\n",
            "TR 5\n",
            "AU 61\n",
            "SE 18\n",
            "LU 10\n",
            "ZA 10\n",
            "CH 8\n",
            "IR 5\n",
            "MA 3\n",
            "NL 15\n",
            "PH 3\n",
            "IS 2\n",
            "DK 13\n",
            "TW 3\n",
            "MN 1\n",
            "HU 9\n",
            "MX 19\n",
            "RO 8\n",
            "GR 7\n",
            "AE 9\n",
            "PR 1\n",
            "FI 6\n",
            "KH 2\n",
            "NO 7\n",
            "PL 5\n",
            "MT 2\n",
            "NA 1\n",
            "BA 1\n",
            "CS 1\n",
            "PK 2\n",
            "DZ 1\n",
            "ET 1\n",
            "QA 2\n",
            "TN 2\n",
            "PT 1\n",
            "BG 3\n",
            "SI 1\n",
            "UA 2\n",
            "SA 1\n",
            "JO 1\n",
            "HR 1\n",
            "SG 2\n",
            "CY 1\n",
            "UY 1\n",
            "PY 1\n",
            "MR 1\n",
            "CR 1\n",
            "BS 3\n",
            "BF 1\n",
            "GH 1\n",
            "ID 2\n",
            "74\n"
          ]
        }
      ]
    },
    {
      "cell_type": "markdown",
      "metadata": {
        "id": "iPJULUDvd847"
      },
      "source": [
        "How many prod countries for each movie"
      ]
    },
    {
      "cell_type": "code",
      "metadata": {
        "id": "2uLD7Fm3eCQc"
      },
      "source": [
        "def count_prod_countries(df):\n",
        "  label = 'production_countries'\n",
        "\n",
        "  for row in df.itertuples():\n",
        "    if pd.notnull(row.production_countries):\n",
        "      num_prod_countries = eval(row.production_countries)\n",
        "      df.loc[row.Index, 'num_prod_countries'] = len(num_prod_countries)\n",
        "  return df\n",
        "\n",
        "#train.groupby(['num_prod_countries']).count()"
      ],
      "execution_count": 16,
      "outputs": []
    },
    {
      "cell_type": "markdown",
      "metadata": {
        "id": "GgCyg2swh8fh"
      },
      "source": [
        "Create bool: Number of production countries more than 1"
      ]
    },
    {
      "cell_type": "code",
      "metadata": {
        "id": "4N1XCYije5dK"
      },
      "source": [
        "def prod_countries_over_1(df):\n",
        "  for row in df.itertuples():\n",
        "    col = row.num_prod_countries\n",
        "    if pd.notnull(col):\n",
        "      df.loc[row.Index, 'two_or_more_prod_countries'] = 1 if col > 1 else 0\n",
        "  return df\n"
      ],
      "execution_count": 17,
      "outputs": []
    },
    {
      "cell_type": "markdown",
      "metadata": {
        "id": "ywY8ILpkGpSg"
      },
      "source": [
        "### release_date"
      ]
    },
    {
      "cell_type": "markdown",
      "metadata": {
        "id": "6e3YSvi7JA0z"
      },
      "source": [
        "Convert release_date to month and year columns. First movie in the dataset is from 1921.\n"
      ]
    },
    {
      "cell_type": "code",
      "metadata": {
        "id": "rNFZckJ3Gvby"
      },
      "source": [
        "def convert_dates(df):  \n",
        "  col = 'release_date'\n",
        "\n",
        "  for row in df.itertuples():\n",
        "    if pd.notnull(row.release_date):\n",
        "      date = row.release_date.split('/')\n",
        "      month = int(date[0])\n",
        "      year = int(date[2])\n",
        "      df.loc[row.Index, 'month'] = month\n",
        "      df.loc[row.Index, 'year'] = 1900 + year if year > 20 else 2000 + year\n",
        "  return df\n"
      ],
      "execution_count": 18,
      "outputs": []
    },
    {
      "cell_type": "markdown",
      "metadata": {
        "id": "ViB3xhx6JdhY"
      },
      "source": [
        "### status"
      ]
    },
    {
      "cell_type": "markdown",
      "metadata": {
        "id": "x9ak4g7GJ__u"
      },
      "source": [
        "4 movies with status Rumored. Remove feature"
      ]
    },
    {
      "cell_type": "code",
      "metadata": {
        "id": "MWTVEEtKJcN4",
        "colab": {
          "base_uri": "https://localhost:8080/",
          "height": 37
        },
        "outputId": "e71dda24-baa6-4a41-f390-90b2741f4290"
      },
      "source": [
        "'''for id, row in train.iterrows():\n",
        "  if row['status'] not in \"Released\":\n",
        "    print(row['status'])\n",
        "    print(row)'''"
      ],
      "execution_count": 19,
      "outputs": [
        {
          "output_type": "execute_result",
          "data": {
            "application/vnd.google.colaboratory.intrinsic+json": {
              "type": "string"
            },
            "text/plain": [
              "'for id, row in train.iterrows():\\n  if row[\\'status\\'] not in \"Released\":\\n    print(row[\\'status\\'])\\n    print(row)'"
            ]
          },
          "metadata": {},
          "execution_count": 19
        }
      ]
    },
    {
      "cell_type": "markdown",
      "metadata": {
        "id": "yCHgebdfGV3A"
      },
      "source": [
        "### cast"
      ]
    },
    {
      "cell_type": "code",
      "metadata": {
        "id": "BdmKPHDfLW2u"
      },
      "source": [
        "def cast_size_col(df):\n",
        "  col = 'cast'\n",
        "\n",
        "  for row in df.itertuples():\n",
        "    if pd.notnull(row.cast):\n",
        "      cast = eval(row.cast)\n",
        "      df.loc[row.Index, 'cast_size'] = len(cast)\n",
        "  return df\n"
      ],
      "execution_count": 20,
      "outputs": []
    },
    {
      "cell_type": "markdown",
      "metadata": {
        "id": "kzVgbdv6GbUs"
      },
      "source": [
        "### crew"
      ]
    },
    {
      "cell_type": "markdown",
      "metadata": {
        "id": "KC66a7YKHUnZ"
      },
      "source": [
        "Crew size and director col"
      ]
    },
    {
      "cell_type": "code",
      "metadata": {
        "id": "ft261NteHUJx"
      },
      "source": [
        "def crew_size_director_col(df):  \n",
        "  label = 'crew'\n",
        "\n",
        "  for row in df.itertuples():\n",
        "    if pd.notnull(row.crew):\n",
        "      crew_array = eval(row.crew)\n",
        "      for instance in crew_array:\n",
        "        if instance['job'] == 'Director':\n",
        "          df.loc[row.Index, 'director'] = instance['id']\n",
        "          break\n",
        "      df.loc[row.Index, 'crew_size'] = len(crew_array)\n",
        "  return df\n"
      ],
      "execution_count": 21,
      "outputs": []
    },
    {
      "cell_type": "markdown",
      "metadata": {
        "id": "hMgz-hdoR62u"
      },
      "source": [
        "### spoken_languages"
      ]
    },
    {
      "cell_type": "markdown",
      "metadata": {
        "id": "2quP9EI2bqNo"
      },
      "source": [
        "Occurence of each language"
      ]
    },
    {
      "cell_type": "code",
      "metadata": {
        "id": "VAT9dX1wR9kz",
        "colab": {
          "base_uri": "https://localhost:8080/"
        },
        "outputId": "f327206f-13a5-4b19-db05-86d05616c0de"
      },
      "source": [
        "lang_count = {}\n",
        "\n",
        "for i, row in enumerate(data['spoken_languages']):\n",
        "  if row is not np.nan:\n",
        "    languages = eval(row)\n",
        "    for lang in languages:\n",
        "      name = lang['name']\n",
        "      if name in lang_count:\n",
        "        lang_count[name] += 1\n",
        "      else:\n",
        "        lang_count[name] = 1\n",
        "\n",
        "for k, v in lang_count.items():\n",
        "  print(k, v)\n",
        "\n",
        "print(len(lang_count))"
      ],
      "execution_count": 22,
      "outputs": [
        {
          "output_type": "stream",
          "name": "stdout",
          "text": [
            "English 2618\n",
            "हिन्दी 56\n",
            "한국어/조선말 37\n",
            "العربية 40\n",
            "Pусский 152\n",
            "svenska 22\n",
            "Srpski 4\n",
            "Deutsch 169\n",
            "Français 288\n",
            "Italiano 124\n",
            "日本語 89\n",
            "עִבְרִית 15\n",
            "Português 43\n",
            "Latin 23\n",
            "普通话 68\n",
            "Español 239\n",
            "Nederlands 10\n",
            "广州话 / 廣州話 36\n",
            " 47\n",
            "Český 20\n",
            "தமிழ் 27\n",
            "తెలుగు 7\n",
            "Polski 25\n",
            "Türkçe 13\n",
            "Magyar 24\n",
            "ελληνικά 15\n",
            "Gaeilge 3\n",
            "فارسی 10\n",
            "ภาษาไทย 22\n",
            "Català 3\n",
            "Dansk 13\n",
            "বাংলা 3\n",
            "қазақ 1\n",
            "Afrikaans 4\n",
            "ਪੰਜਾਬੀ 3\n",
            "български език 2\n",
            "Kiswahili 7\n",
            "Norsk 7\n",
            "No Language 7\n",
            "suomi 6\n",
            "اردو 8\n",
            "shqip 2\n",
            "Română 8\n",
            "Bahasa indonesia 2\n",
            "Tiếng Việt 10\n",
            "Slovenčina 2\n",
            "Український 6\n",
            "Esperanto 2\n",
            "euskera 2\n",
            "isiZulu 2\n",
            "Somali 3\n",
            "Íslenska 3\n",
            "Wolof 1\n",
            "Eesti 1\n",
            "پښتو 1\n",
            "Hrvatski 2\n",
            "56\n"
          ]
        }
      ]
    },
    {
      "cell_type": "markdown",
      "metadata": {
        "id": "BbgVCHfHcAIC"
      },
      "source": [
        "Create bool: Spoken language is english"
      ]
    },
    {
      "cell_type": "code",
      "metadata": {
        "id": "O7NuyT7ScHzD"
      },
      "source": [
        "'''\n",
        "def has_english_as_lang(df):\n",
        "  for i, data in enumerate(df['spoken_languages']):\n",
        "    if data is not np.nan:\n",
        "      languages = eval(data)\n",
        "      for lang in languages:\n",
        "        lang = lang['iso_639_1']\n",
        "        if lang in 'en':\n",
        "          df.loc[i, 'english_spoken'] = 1\n",
        "          break\n",
        "        df.loc[i, 'english_spoken'] = 0\n",
        "  return df\n",
        "'''\n",
        "\n",
        "def has_english_as_lang(df):\n",
        "  for row in df.itertuples():\n",
        "    if pd.notnull(row.spoken_languages):\n",
        "      languages = eval(row.spoken_languages)\n",
        "      for lang in languages:\n",
        "        lang = lang['iso_639_1']\n",
        "        if lang in 'en':\n",
        "          df.loc[row.Index, 'english_spoken'] = 1\n",
        "          break\n",
        "        df.loc[row.Index, 'english_spoken'] = 0\n",
        "  return df"
      ],
      "execution_count": 23,
      "outputs": []
    },
    {
      "cell_type": "markdown",
      "metadata": {
        "id": "ndNNAFHwqS_N"
      },
      "source": [
        "### Keywords"
      ]
    },
    {
      "cell_type": "markdown",
      "metadata": {
        "id": "mVAAvZL0qWXd"
      },
      "source": [
        "Number of keywords"
      ]
    },
    {
      "cell_type": "code",
      "metadata": {
        "id": "NF8fbB1ZqX8J"
      },
      "source": [
        "def count_keywords(df):\n",
        "  for row in df.itertuples():\n",
        "    col = row.Keywords\n",
        "    df.loc[row.Index, 'num_keywords'] = len(eval(col)) if pd.notnull(col) else 0\n",
        "  return df\n"
      ],
      "execution_count": 24,
      "outputs": []
    },
    {
      "cell_type": "markdown",
      "metadata": {
        "id": "zmzLRD-OLUPD"
      },
      "source": [
        "### budget and revenue log transformation"
      ]
    },
    {
      "cell_type": "code",
      "metadata": {
        "id": "Mw1OdyACkGq4"
      },
      "source": [
        "def log_transformation_col(col):\n",
        "  return np.log1p(col)"
      ],
      "execution_count": 25,
      "outputs": []
    },
    {
      "cell_type": "markdown",
      "metadata": {
        "id": "y3_KbRVZxfPW"
      },
      "source": [
        "### revenue"
      ]
    },
    {
      "cell_type": "markdown",
      "metadata": {
        "id": "gphbqrn5ZMuC"
      },
      "source": [
        "#### Comparing revenue difference for movies with budget and movies without budget"
      ]
    },
    {
      "cell_type": "code",
      "metadata": {
        "id": "nJXbIrj1ZP1b",
        "colab": {
          "base_uri": "https://localhost:8080/"
        },
        "outputId": "37407238-73c3-405a-8fb9-df5d32be1483"
      },
      "source": [
        "df = pd.read_csv('/content/drive/MyDrive/Machine Learning/ML datasets/tmdb_movie_data/train.csv')\n",
        "\n",
        "total_budget = 0\n",
        "total_no_budget = 0\n",
        "\n",
        "count_budget = 0\n",
        "count_no_budget = 0\n",
        "\n",
        "# Count movies with and without/not given budgets and their revenue\n",
        "for id, movie in df.iterrows():\n",
        "  if movie['budget'] is not 0:\n",
        "    count_budget += 1\n",
        "    total_budget += movie['revenue']\n",
        "  else:\n",
        "    count_no_budget += 1\n",
        "    total_no_budget += movie['revenue']\n",
        "\n",
        "\n",
        "avg_budget = total_budget / count_budget\n",
        "avg_no_budget = total_no_budget / count_no_budget\n",
        "\n",
        "print(\"Movies with budget:    \", count_budget)\n",
        "print(\"Movies without budget: \", count_no_budget)\n",
        "\n",
        "print(\"Average revenue for movies with budget:    \", int(avg_budget))\n",
        "print(\"Average revenue for movues without budget: \", int(avg_no_budget))"
      ],
      "execution_count": 26,
      "outputs": [
        {
          "output_type": "stream",
          "name": "stdout",
          "text": [
            "Movies with budget:     2188\n",
            "Movies without budget:  812\n",
            "Average revenue for movies with budget:     86966045\n",
            "Average revenue for movues without budget:  12187006\n"
          ]
        }
      ]
    },
    {
      "cell_type": "markdown",
      "metadata": {
        "id": "i3JXRhg_iF5p"
      },
      "source": [
        "A lot of movies with budget 0. We assume most of them have a budget, but not given."
      ]
    },
    {
      "cell_type": "markdown",
      "metadata": {
        "id": "P3XJbB-xr9eA"
      },
      "source": [
        "## Remove features"
      ]
    },
    {
      "cell_type": "code",
      "metadata": {
        "id": "fKHzdhVWr_Gi"
      },
      "source": [
        "#def remove_non_relavant_features(df):\n",
        "#  return df.drop(['id', 'imdb_id', 'original_title', 'overview', 'poster_path', 'tagline', 'title', 'status', 'genres', 'production_countries', 'release_date', 'cast', 'crew', 'spoken_languages', 'Keywords'], axis=1)\n",
        "\n",
        "features_to_be_removed_first = ['imdb_id', 'original_title', 'overview', 'poster_path', 'tagline', 'title', 'status']\n",
        "features_to_be_removed_last = ['id', 'genres', 'production_countries', 'release_date', 'cast', 'crew', 'spoken_languages', 'Keywords']\n"
      ],
      "execution_count": 27,
      "outputs": []
    },
    {
      "cell_type": "markdown",
      "metadata": {
        "id": "yzE2Qdhj4OmU"
      },
      "source": [
        "## Combining features"
      ]
    },
    {
      "cell_type": "code",
      "metadata": {
        "id": "XDNxS6pQ4Rau"
      },
      "source": [
        "def combine_selected_features(df):\n",
        "  #df['crew_cast'] = df['crew_size'] / df['cast_size'] # gives error\n",
        "  df['family_animation'] = df['is_family'] * df['is_animation']\n",
        "  return df\n"
      ],
      "execution_count": 28,
      "outputs": []
    },
    {
      "cell_type": "markdown",
      "metadata": {
        "id": "3pCgv1i4GuGF"
      },
      "source": [
        "## Print"
      ]
    },
    {
      "cell_type": "code",
      "metadata": {
        "id": "04DAnebkB_Sc",
        "colab": {
          "base_uri": "https://localhost:8080/",
          "height": 1000
        },
        "outputId": "0d852039-a965-4efc-edd0-a2d9235bbabb"
      },
      "source": [
        "train.head(10)"
      ],
      "execution_count": 29,
      "outputs": [
        {
          "output_type": "execute_result",
          "data": {
            "text/html": [
              "<div>\n",
              "<style scoped>\n",
              "    .dataframe tbody tr th:only-of-type {\n",
              "        vertical-align: middle;\n",
              "    }\n",
              "\n",
              "    .dataframe tbody tr th {\n",
              "        vertical-align: top;\n",
              "    }\n",
              "\n",
              "    .dataframe thead th {\n",
              "        text-align: right;\n",
              "    }\n",
              "</style>\n",
              "<table border=\"1\" class=\"dataframe\">\n",
              "  <thead>\n",
              "    <tr style=\"text-align: right;\">\n",
              "      <th></th>\n",
              "      <th>id</th>\n",
              "      <th>belongs_to_collection</th>\n",
              "      <th>budget</th>\n",
              "      <th>genres</th>\n",
              "      <th>homepage</th>\n",
              "      <th>imdb_id</th>\n",
              "      <th>original_language</th>\n",
              "      <th>original_title</th>\n",
              "      <th>overview</th>\n",
              "      <th>popularity</th>\n",
              "      <th>poster_path</th>\n",
              "      <th>production_companies</th>\n",
              "      <th>production_countries</th>\n",
              "      <th>release_date</th>\n",
              "      <th>runtime</th>\n",
              "      <th>spoken_languages</th>\n",
              "      <th>status</th>\n",
              "      <th>tagline</th>\n",
              "      <th>title</th>\n",
              "      <th>Keywords</th>\n",
              "      <th>cast</th>\n",
              "      <th>crew</th>\n",
              "      <th>revenue</th>\n",
              "    </tr>\n",
              "  </thead>\n",
              "  <tbody>\n",
              "    <tr>\n",
              "      <th>0</th>\n",
              "      <td>1</td>\n",
              "      <td>[{'id': 313576, 'name': 'Hot Tub Time Machine ...</td>\n",
              "      <td>14000000</td>\n",
              "      <td>[{'id': 35, 'name': 'Comedy'}]</td>\n",
              "      <td>NaN</td>\n",
              "      <td>tt2637294</td>\n",
              "      <td>en</td>\n",
              "      <td>Hot Tub Time Machine 2</td>\n",
              "      <td>When Lou, who has become the \"father of the In...</td>\n",
              "      <td>6.575393</td>\n",
              "      <td>/tQtWuwvMf0hCc2QR2tkolwl7c3c.jpg</td>\n",
              "      <td>[{'name': 'Paramount Pictures', 'id': 4}, {'na...</td>\n",
              "      <td>[{'iso_3166_1': 'US', 'name': 'United States o...</td>\n",
              "      <td>2/20/15</td>\n",
              "      <td>93.0</td>\n",
              "      <td>[{'iso_639_1': 'en', 'name': 'English'}]</td>\n",
              "      <td>Released</td>\n",
              "      <td>The Laws of Space and Time are About to be Vio...</td>\n",
              "      <td>Hot Tub Time Machine 2</td>\n",
              "      <td>[{'id': 4379, 'name': 'time travel'}, {'id': 9...</td>\n",
              "      <td>[{'cast_id': 4, 'character': 'Lou', 'credit_id...</td>\n",
              "      <td>[{'credit_id': '59ac067c92514107af02c8c8', 'de...</td>\n",
              "      <td>12314651</td>\n",
              "    </tr>\n",
              "    <tr>\n",
              "      <th>1</th>\n",
              "      <td>2</td>\n",
              "      <td>[{'id': 107674, 'name': 'The Princess Diaries ...</td>\n",
              "      <td>40000000</td>\n",
              "      <td>[{'id': 35, 'name': 'Comedy'}, {'id': 18, 'nam...</td>\n",
              "      <td>NaN</td>\n",
              "      <td>tt0368933</td>\n",
              "      <td>en</td>\n",
              "      <td>The Princess Diaries 2: Royal Engagement</td>\n",
              "      <td>Mia Thermopolis is now a college graduate and ...</td>\n",
              "      <td>8.248895</td>\n",
              "      <td>/w9Z7A0GHEhIp7etpj0vyKOeU1Wx.jpg</td>\n",
              "      <td>[{'name': 'Walt Disney Pictures', 'id': 2}]</td>\n",
              "      <td>[{'iso_3166_1': 'US', 'name': 'United States o...</td>\n",
              "      <td>8/6/04</td>\n",
              "      <td>113.0</td>\n",
              "      <td>[{'iso_639_1': 'en', 'name': 'English'}]</td>\n",
              "      <td>Released</td>\n",
              "      <td>It can take a lifetime to find true love; she'...</td>\n",
              "      <td>The Princess Diaries 2: Royal Engagement</td>\n",
              "      <td>[{'id': 2505, 'name': 'coronation'}, {'id': 42...</td>\n",
              "      <td>[{'cast_id': 1, 'character': 'Mia Thermopolis'...</td>\n",
              "      <td>[{'credit_id': '52fe43fe9251416c7502563d', 'de...</td>\n",
              "      <td>95149435</td>\n",
              "    </tr>\n",
              "    <tr>\n",
              "      <th>2</th>\n",
              "      <td>3</td>\n",
              "      <td>NaN</td>\n",
              "      <td>3300000</td>\n",
              "      <td>[{'id': 18, 'name': 'Drama'}]</td>\n",
              "      <td>http://sonyclassics.com/whiplash/</td>\n",
              "      <td>tt2582802</td>\n",
              "      <td>en</td>\n",
              "      <td>Whiplash</td>\n",
              "      <td>Under the direction of a ruthless instructor, ...</td>\n",
              "      <td>64.299990</td>\n",
              "      <td>/lIv1QinFqz4dlp5U4lQ6HaiskOZ.jpg</td>\n",
              "      <td>[{'name': 'Bold Films', 'id': 2266}, {'name': ...</td>\n",
              "      <td>[{'iso_3166_1': 'US', 'name': 'United States o...</td>\n",
              "      <td>10/10/14</td>\n",
              "      <td>105.0</td>\n",
              "      <td>[{'iso_639_1': 'en', 'name': 'English'}]</td>\n",
              "      <td>Released</td>\n",
              "      <td>The road to greatness can take you to the edge.</td>\n",
              "      <td>Whiplash</td>\n",
              "      <td>[{'id': 1416, 'name': 'jazz'}, {'id': 1523, 'n...</td>\n",
              "      <td>[{'cast_id': 5, 'character': 'Andrew Neimann',...</td>\n",
              "      <td>[{'credit_id': '54d5356ec3a3683ba0000039', 'de...</td>\n",
              "      <td>13092000</td>\n",
              "    </tr>\n",
              "    <tr>\n",
              "      <th>3</th>\n",
              "      <td>4</td>\n",
              "      <td>NaN</td>\n",
              "      <td>1200000</td>\n",
              "      <td>[{'id': 53, 'name': 'Thriller'}, {'id': 18, 'n...</td>\n",
              "      <td>http://kahaanithefilm.com/</td>\n",
              "      <td>tt1821480</td>\n",
              "      <td>hi</td>\n",
              "      <td>Kahaani</td>\n",
              "      <td>Vidya Bagchi (Vidya Balan) arrives in Kolkata ...</td>\n",
              "      <td>3.174936</td>\n",
              "      <td>/aTXRaPrWSinhcmCrcfJK17urp3F.jpg</td>\n",
              "      <td>NaN</td>\n",
              "      <td>[{'iso_3166_1': 'IN', 'name': 'India'}]</td>\n",
              "      <td>3/9/12</td>\n",
              "      <td>122.0</td>\n",
              "      <td>[{'iso_639_1': 'en', 'name': 'English'}, {'iso...</td>\n",
              "      <td>Released</td>\n",
              "      <td>NaN</td>\n",
              "      <td>Kahaani</td>\n",
              "      <td>[{'id': 10092, 'name': 'mystery'}, {'id': 1054...</td>\n",
              "      <td>[{'cast_id': 1, 'character': 'Vidya Bagchi', '...</td>\n",
              "      <td>[{'credit_id': '52fe48779251416c9108d6eb', 'de...</td>\n",
              "      <td>16000000</td>\n",
              "    </tr>\n",
              "    <tr>\n",
              "      <th>4</th>\n",
              "      <td>5</td>\n",
              "      <td>NaN</td>\n",
              "      <td>0</td>\n",
              "      <td>[{'id': 28, 'name': 'Action'}, {'id': 53, 'nam...</td>\n",
              "      <td>NaN</td>\n",
              "      <td>tt1380152</td>\n",
              "      <td>ko</td>\n",
              "      <td>마린보이</td>\n",
              "      <td>Marine Boy is the story of a former national s...</td>\n",
              "      <td>1.148070</td>\n",
              "      <td>/m22s7zvkVFDU9ir56PiiqIEWFdT.jpg</td>\n",
              "      <td>NaN</td>\n",
              "      <td>[{'iso_3166_1': 'KR', 'name': 'South Korea'}]</td>\n",
              "      <td>2/5/09</td>\n",
              "      <td>118.0</td>\n",
              "      <td>[{'iso_639_1': 'ko', 'name': '한국어/조선말'}]</td>\n",
              "      <td>Released</td>\n",
              "      <td>NaN</td>\n",
              "      <td>Marine Boy</td>\n",
              "      <td>NaN</td>\n",
              "      <td>[{'cast_id': 3, 'character': 'Chun-soo', 'cred...</td>\n",
              "      <td>[{'credit_id': '52fe464b9251416c75073b43', 'de...</td>\n",
              "      <td>3923970</td>\n",
              "    </tr>\n",
              "    <tr>\n",
              "      <th>5</th>\n",
              "      <td>6</td>\n",
              "      <td>NaN</td>\n",
              "      <td>8000000</td>\n",
              "      <td>[{'id': 16, 'name': 'Animation'}, {'id': 12, '...</td>\n",
              "      <td>NaN</td>\n",
              "      <td>tt0093743</td>\n",
              "      <td>en</td>\n",
              "      <td>Pinocchio and the Emperor of the Night</td>\n",
              "      <td>Pinocchio and his friends, a glow worm and a m...</td>\n",
              "      <td>0.743274</td>\n",
              "      <td>/6IDqA1D2NBIVhzEEaMMRL28iBrq.jpg</td>\n",
              "      <td>NaN</td>\n",
              "      <td>NaN</td>\n",
              "      <td>8/6/87</td>\n",
              "      <td>83.0</td>\n",
              "      <td>[{'iso_639_1': 'en', 'name': 'English'}]</td>\n",
              "      <td>Released</td>\n",
              "      <td>NaN</td>\n",
              "      <td>Pinocchio and the Emperor of the Night</td>\n",
              "      <td>NaN</td>\n",
              "      <td>[{'cast_id': 6, 'character': 'Pinocchio (voice...</td>\n",
              "      <td>[{'credit_id': '52fe46f49251416c9106558b', 'de...</td>\n",
              "      <td>3261638</td>\n",
              "    </tr>\n",
              "    <tr>\n",
              "      <th>6</th>\n",
              "      <td>7</td>\n",
              "      <td>NaN</td>\n",
              "      <td>14000000</td>\n",
              "      <td>[{'id': 27, 'name': 'Horror'}, {'id': 53, 'nam...</td>\n",
              "      <td>http://www.thepossessionmovie.com/</td>\n",
              "      <td>tt0431021</td>\n",
              "      <td>en</td>\n",
              "      <td>The Possession</td>\n",
              "      <td>A young girl buys an antique box at a yard sal...</td>\n",
              "      <td>7.286477</td>\n",
              "      <td>/4QjzFuaZmB4btGnLwAgdp23BzIU.jpg</td>\n",
              "      <td>[{'name': 'Ghost House Pictures', 'id': 768}, ...</td>\n",
              "      <td>[{'iso_3166_1': 'US', 'name': 'United States o...</td>\n",
              "      <td>8/30/12</td>\n",
              "      <td>92.0</td>\n",
              "      <td>[{'iso_639_1': 'en', 'name': 'English'}]</td>\n",
              "      <td>Released</td>\n",
              "      <td>Fear The Demon That Doesn't Fear God</td>\n",
              "      <td>The Possession</td>\n",
              "      <td>NaN</td>\n",
              "      <td>[{'cast_id': 23, 'character': 'Clyde', 'credit...</td>\n",
              "      <td>[{'credit_id': '52fe4981c3a368484e12ee29', 'de...</td>\n",
              "      <td>85446075</td>\n",
              "    </tr>\n",
              "    <tr>\n",
              "      <th>7</th>\n",
              "      <td>8</td>\n",
              "      <td>NaN</td>\n",
              "      <td>0</td>\n",
              "      <td>[{'id': 99, 'name': 'Documentary'}]</td>\n",
              "      <td>NaN</td>\n",
              "      <td>tt0391024</td>\n",
              "      <td>en</td>\n",
              "      <td>Control Room</td>\n",
              "      <td>A chronicle which provides a rare window into ...</td>\n",
              "      <td>1.949044</td>\n",
              "      <td>/83BV8fGy5p9i8RwE9oj76tZ1Ikp.jpg</td>\n",
              "      <td>NaN</td>\n",
              "      <td>NaN</td>\n",
              "      <td>1/15/04</td>\n",
              "      <td>84.0</td>\n",
              "      <td>[{'iso_639_1': 'ar', 'name': 'العربية'}, {'iso...</td>\n",
              "      <td>Released</td>\n",
              "      <td>Different channels. Different truths.</td>\n",
              "      <td>Control Room</td>\n",
              "      <td>[{'id': 917, 'name': 'journalism'}, {'id': 163...</td>\n",
              "      <td>[{'cast_id': 2, 'character': 'Himself', 'credi...</td>\n",
              "      <td>[{'credit_id': '52fe47a69251416c750a0daf', 'de...</td>\n",
              "      <td>2586511</td>\n",
              "    </tr>\n",
              "    <tr>\n",
              "      <th>8</th>\n",
              "      <td>9</td>\n",
              "      <td>[{'id': 256377, 'name': 'The Muppet Collection...</td>\n",
              "      <td>0</td>\n",
              "      <td>[{'id': 28, 'name': 'Action'}, {'id': 35, 'nam...</td>\n",
              "      <td>NaN</td>\n",
              "      <td>tt0117110</td>\n",
              "      <td>en</td>\n",
              "      <td>Muppet Treasure Island</td>\n",
              "      <td>After telling the story of Flint's last journe...</td>\n",
              "      <td>6.902423</td>\n",
              "      <td>/5A8gKzOrF9Z7tSUX6xd5dEx4NXf.jpg</td>\n",
              "      <td>[{'name': 'Walt Disney Pictures', 'id': 2}, {'...</td>\n",
              "      <td>[{'iso_3166_1': 'US', 'name': 'United States o...</td>\n",
              "      <td>2/16/96</td>\n",
              "      <td>100.0</td>\n",
              "      <td>[{'iso_639_1': 'en', 'name': 'English'}]</td>\n",
              "      <td>Released</td>\n",
              "      <td>Set sail for Muppet mayhem!</td>\n",
              "      <td>Muppet Treasure Island</td>\n",
              "      <td>[{'id': 2041, 'name': 'island'}, {'id': 4418, ...</td>\n",
              "      <td>[{'cast_id': 1, 'character': 'Long John Silver...</td>\n",
              "      <td>[{'credit_id': '52fe43c89251416c7501deb3', 'de...</td>\n",
              "      <td>34327391</td>\n",
              "    </tr>\n",
              "    <tr>\n",
              "      <th>9</th>\n",
              "      <td>10</td>\n",
              "      <td>NaN</td>\n",
              "      <td>6000000</td>\n",
              "      <td>[{'id': 35, 'name': 'Comedy'}, {'id': 10402, '...</td>\n",
              "      <td>NaN</td>\n",
              "      <td>tt0310281</td>\n",
              "      <td>en</td>\n",
              "      <td>A Mighty Wind</td>\n",
              "      <td>In \"A Mighty Wind\", director Christopher Guest...</td>\n",
              "      <td>4.672036</td>\n",
              "      <td>/xwD4EsPOGLuKP50Q1gwqAsyhAFB.jpg</td>\n",
              "      <td>[{'name': 'Castle Rock Entertainment', 'id': 97}]</td>\n",
              "      <td>[{'iso_3166_1': 'US', 'name': 'United States o...</td>\n",
              "      <td>4/16/03</td>\n",
              "      <td>91.0</td>\n",
              "      <td>[{'iso_639_1': 'en', 'name': 'English'}]</td>\n",
              "      <td>Released</td>\n",
              "      <td>Back together for the first time, again.</td>\n",
              "      <td>A Mighty Wind</td>\n",
              "      <td>[{'id': 11800, 'name': 'mockumentary'}, {'id':...</td>\n",
              "      <td>[{'cast_id': 24, 'character': 'Jonathan Steinb...</td>\n",
              "      <td>[{'credit_id': '52fe45609251416c750545b3', 'de...</td>\n",
              "      <td>18750246</td>\n",
              "    </tr>\n",
              "  </tbody>\n",
              "</table>\n",
              "</div>"
            ],
            "text/plain": [
              "   id  ...   revenue\n",
              "0   1  ...  12314651\n",
              "1   2  ...  95149435\n",
              "2   3  ...  13092000\n",
              "3   4  ...  16000000\n",
              "4   5  ...   3923970\n",
              "5   6  ...   3261638\n",
              "6   7  ...  85446075\n",
              "7   8  ...   2586511\n",
              "8   9  ...  34327391\n",
              "9  10  ...  18750246\n",
              "\n",
              "[10 rows x 23 columns]"
            ]
          },
          "metadata": {},
          "execution_count": 29
        }
      ]
    },
    {
      "cell_type": "markdown",
      "metadata": {
        "id": "OgbLBhqZp8Mn"
      },
      "source": [
        "## Null-values"
      ]
    },
    {
      "cell_type": "markdown",
      "metadata": {
        "id": "qOkHNpYuqGz-"
      },
      "source": [
        "# Test Feature Engineering Functions"
      ]
    },
    {
      "cell_type": "markdown",
      "metadata": {
        "id": "Nutwf2TZgknl"
      },
      "source": [
        "Testing the feature functions on dataset. Using the same (data_set) for plots and correlations later"
      ]
    },
    {
      "cell_type": "code",
      "metadata": {
        "id": "leg2zNZtqJhz"
      },
      "source": [
        "data_set = data\n",
        "\n",
        "data_set = data_set.drop(features_to_be_removed_first, axis=1)\n",
        "data_set = create_genre_cols(data_set)\n",
        "data_set['homepage'] = has_value(data_set['homepage'])\n",
        "data_set['belongs_to_collection'] = has_value(data_set['belongs_to_collection'])\n",
        "data_set = enc_original_language(data_set)\n",
        "data_set = get_lowest_company_id(data_set)\n",
        "data_set = count_prod_countries(data_set)\n",
        "data_set = prod_countries_over_1(data_set)\n",
        "data_set = convert_dates(data_set)\n",
        "data_set = cast_size_col(data_set)\n",
        "data_set = crew_size_director_col(data_set)\n",
        "data_set = has_english_as_lang(data_set)\n",
        "data_set = count_keywords(data_set)\n",
        "data_set = combine_selected_features(data_set)\n",
        "data_set = data_set.drop(features_to_be_removed_last, axis=1)\n",
        "\n",
        "#data_set['budget'] = log_transformation_col(data_set['budget'])\n",
        "#data_set['revenue'] = log_transformation_col(data_set['revenue'])"
      ],
      "execution_count": 30,
      "outputs": []
    },
    {
      "cell_type": "code",
      "metadata": {
        "id": "62s0IZQ7qQtT",
        "colab": {
          "base_uri": "https://localhost:8080/",
          "height": 666
        },
        "outputId": "0609555f-80d9-4223-a7e0-6d3c29674663"
      },
      "source": [
        "X_train.head(5)"
      ],
      "execution_count": 31,
      "outputs": [
        {
          "output_type": "execute_result",
          "data": {
            "text/html": [
              "<div>\n",
              "<style scoped>\n",
              "    .dataframe tbody tr th:only-of-type {\n",
              "        vertical-align: middle;\n",
              "    }\n",
              "\n",
              "    .dataframe tbody tr th {\n",
              "        vertical-align: top;\n",
              "    }\n",
              "\n",
              "    .dataframe thead th {\n",
              "        text-align: right;\n",
              "    }\n",
              "</style>\n",
              "<table border=\"1\" class=\"dataframe\">\n",
              "  <thead>\n",
              "    <tr style=\"text-align: right;\">\n",
              "      <th></th>\n",
              "      <th>id</th>\n",
              "      <th>belongs_to_collection</th>\n",
              "      <th>budget</th>\n",
              "      <th>genres</th>\n",
              "      <th>homepage</th>\n",
              "      <th>imdb_id</th>\n",
              "      <th>original_language</th>\n",
              "      <th>original_title</th>\n",
              "      <th>overview</th>\n",
              "      <th>popularity</th>\n",
              "      <th>poster_path</th>\n",
              "      <th>production_companies</th>\n",
              "      <th>production_countries</th>\n",
              "      <th>release_date</th>\n",
              "      <th>runtime</th>\n",
              "      <th>spoken_languages</th>\n",
              "      <th>status</th>\n",
              "      <th>tagline</th>\n",
              "      <th>title</th>\n",
              "      <th>Keywords</th>\n",
              "      <th>cast</th>\n",
              "      <th>crew</th>\n",
              "    </tr>\n",
              "  </thead>\n",
              "  <tbody>\n",
              "    <tr>\n",
              "      <th>642</th>\n",
              "      <td>643</td>\n",
              "      <td>NaN</td>\n",
              "      <td>39000000</td>\n",
              "      <td>[{'id': 35, 'name': 'Comedy'}, {'id': 10749, '...</td>\n",
              "      <td>NaN</td>\n",
              "      <td>tt0094898</td>\n",
              "      <td>en</td>\n",
              "      <td>Coming to America</td>\n",
              "      <td>Prince Akeem, heir to the throne of Zamunda, l...</td>\n",
              "      <td>7.830087</td>\n",
              "      <td>/7v1Sy0HC5KEM1DMM4Bpy5gVly1K.jpg</td>\n",
              "      <td>[{'name': 'Paramount Pictures', 'id': 4}, {'na...</td>\n",
              "      <td>[{'iso_3166_1': 'US', 'name': 'United States o...</td>\n",
              "      <td>6/28/88</td>\n",
              "      <td>116.0</td>\n",
              "      <td>[{'iso_639_1': 'en', 'name': 'English'}]</td>\n",
              "      <td>Released</td>\n",
              "      <td>The Four Funniest Men in America are Eddie Mur...</td>\n",
              "      <td>Coming to America</td>\n",
              "      <td>[{'id': 3015, 'name': 'fast food restaurant'},...</td>\n",
              "      <td>[{'cast_id': 1, 'character': 'Prince Akeem / C...</td>\n",
              "      <td>[{'credit_id': '52fe450fc3a36847f80ba1d3', 'de...</td>\n",
              "    </tr>\n",
              "    <tr>\n",
              "      <th>700</th>\n",
              "      <td>701</td>\n",
              "      <td>NaN</td>\n",
              "      <td>25000000</td>\n",
              "      <td>[{'id': 27, 'name': 'Horror'}, {'id': 35, 'nam...</td>\n",
              "      <td>NaN</td>\n",
              "      <td>tt0091419</td>\n",
              "      <td>en</td>\n",
              "      <td>Little Shop of Horrors</td>\n",
              "      <td>Seymour Krelborn is a nerdy orphan working at ...</td>\n",
              "      <td>7.409179</td>\n",
              "      <td>/bxRm8F7rnCsVDyrNh3K9yIFFBKL.jpg</td>\n",
              "      <td>[{'name': 'The Geffen Company', 'id': 2956}, {...</td>\n",
              "      <td>[{'iso_3166_1': 'US', 'name': 'United States o...</td>\n",
              "      <td>12/19/86</td>\n",
              "      <td>94.0</td>\n",
              "      <td>[{'iso_639_1': 'en', 'name': 'English'}]</td>\n",
              "      <td>Released</td>\n",
              "      <td>Don't feed the plants.</td>\n",
              "      <td>Little Shop of Horrors</td>\n",
              "      <td>[{'id': 2382, 'name': 'flower'}, {'id': 2642, ...</td>\n",
              "      <td>[{'cast_id': 8, 'character': 'Seymour Krelborn...</td>\n",
              "      <td>[{'credit_id': '52fe43b59251416c7501b029', 'de...</td>\n",
              "    </tr>\n",
              "    <tr>\n",
              "      <th>226</th>\n",
              "      <td>227</td>\n",
              "      <td>NaN</td>\n",
              "      <td>50000000</td>\n",
              "      <td>[{'id': 14, 'name': 'Fantasy'}, {'id': 53, 'na...</td>\n",
              "      <td>http://www.driveangry3d.com/</td>\n",
              "      <td>tt1502404</td>\n",
              "      <td>en</td>\n",
              "      <td>Drive Angry</td>\n",
              "      <td>Milton is a hardened felon who has broken out ...</td>\n",
              "      <td>7.668829</td>\n",
              "      <td>/afYwV0EAO8YLRyrTnNaSRysDrCh.jpg</td>\n",
              "      <td>[{'name': 'Summit Entertainment', 'id': 491}, ...</td>\n",
              "      <td>[{'iso_3166_1': 'US', 'name': 'United States o...</td>\n",
              "      <td>2/24/11</td>\n",
              "      <td>105.0</td>\n",
              "      <td>[{'iso_639_1': 'en', 'name': 'English'}]</td>\n",
              "      <td>Released</td>\n",
              "      <td>One hell of a ride.</td>\n",
              "      <td>Drive Angry</td>\n",
              "      <td>[{'id': 4479, 'name': 'bone'}, {'id': 41019, '...</td>\n",
              "      <td>[{'cast_id': 4, 'character': 'Milton', 'credit...</td>\n",
              "      <td>[{'credit_id': '54e07d43c3a368454d0053e5', 'de...</td>\n",
              "    </tr>\n",
              "    <tr>\n",
              "      <th>1697</th>\n",
              "      <td>1698</td>\n",
              "      <td>NaN</td>\n",
              "      <td>0</td>\n",
              "      <td>[{'id': 18, 'name': 'Drama'}, {'id': 10749, 'n...</td>\n",
              "      <td>NaN</td>\n",
              "      <td>tt0105391</td>\n",
              "      <td>en</td>\n",
              "      <td>Shining Through</td>\n",
              "      <td>Spirited New Yorker Linda Voss goes to work fo...</td>\n",
              "      <td>5.860319</td>\n",
              "      <td>/e3D4a0B7BbzJfDMuLurDvxZP2oY.jpg</td>\n",
              "      <td>[{'name': 'Twentieth Century Fox Film Corporat...</td>\n",
              "      <td>[{'iso_3166_1': 'GB', 'name': 'United Kingdom'...</td>\n",
              "      <td>1/31/92</td>\n",
              "      <td>132.0</td>\n",
              "      <td>[{'iso_639_1': 'en', 'name': 'English'}]</td>\n",
              "      <td>Released</td>\n",
              "      <td>He needed to trust her with his secret. She ha...</td>\n",
              "      <td>Shining Through</td>\n",
              "      <td>[{'id': 74, 'name': 'germany'}, {'id': 818, 'n...</td>\n",
              "      <td>[{'cast_id': 2, 'character': 'Ed Leland', 'cre...</td>\n",
              "      <td>[{'credit_id': '58fd30ef925141643c02713f', 'de...</td>\n",
              "    </tr>\n",
              "    <tr>\n",
              "      <th>1010</th>\n",
              "      <td>1011</td>\n",
              "      <td>NaN</td>\n",
              "      <td>35000000</td>\n",
              "      <td>[{'id': 35, 'name': 'Comedy'}]</td>\n",
              "      <td>NaN</td>\n",
              "      <td>tt3152624</td>\n",
              "      <td>en</td>\n",
              "      <td>Trainwreck</td>\n",
              "      <td>Having thought that monogamy was never possibl...</td>\n",
              "      <td>17.310647</td>\n",
              "      <td>/2USk7mhiCXRkU9NzttXCzOjg2iV.jpg</td>\n",
              "      <td>[{'name': 'Universal Pictures', 'id': 33}, {'n...</td>\n",
              "      <td>[{'iso_3166_1': 'US', 'name': 'United States o...</td>\n",
              "      <td>7/17/15</td>\n",
              "      <td>125.0</td>\n",
              "      <td>[{'iso_639_1': 'en', 'name': 'English'}]</td>\n",
              "      <td>Released</td>\n",
              "      <td>We All Know One.</td>\n",
              "      <td>Trainwreck</td>\n",
              "      <td>[{'id': 567, 'name': 'alcohol'}, {'id': 2864, ...</td>\n",
              "      <td>[{'cast_id': 4, 'character': 'Amy Townsend', '...</td>\n",
              "      <td>[{'credit_id': '55aa7f0c92514172ef003b26', 'de...</td>\n",
              "    </tr>\n",
              "  </tbody>\n",
              "</table>\n",
              "</div>"
            ],
            "text/plain": [
              "        id  ...                                               crew\n",
              "642    643  ...  [{'credit_id': '52fe450fc3a36847f80ba1d3', 'de...\n",
              "700    701  ...  [{'credit_id': '52fe43b59251416c7501b029', 'de...\n",
              "226    227  ...  [{'credit_id': '54e07d43c3a368454d0053e5', 'de...\n",
              "1697  1698  ...  [{'credit_id': '58fd30ef925141643c02713f', 'de...\n",
              "1010  1011  ...  [{'credit_id': '55aa7f0c92514172ef003b26', 'de...\n",
              "\n",
              "[5 rows x 22 columns]"
            ]
          },
          "metadata": {},
          "execution_count": 31
        }
      ]
    },
    {
      "cell_type": "markdown",
      "metadata": {
        "id": "DeNguhZljx76"
      },
      "source": [
        "# Plots"
      ]
    },
    {
      "cell_type": "markdown",
      "metadata": {
        "id": "c0DRTZSJrv9S"
      },
      "source": [
        "### Histograms"
      ]
    },
    {
      "cell_type": "code",
      "metadata": {
        "id": "RzEivMcnr0XT",
        "colab": {
          "base_uri": "https://localhost:8080/",
          "height": 879
        },
        "outputId": "9012fe94-797c-4c56-95cc-16bc667124a9"
      },
      "source": [
        "data_set.hist(bins=50, figsize=(20,15))\n",
        "plt.show()"
      ],
      "execution_count": 32,
      "outputs": [
        {
          "output_type": "display_data",
          "data": {
            "image/png": "[encoded data removed]",
            "text/plain": [
              "<Figure size 1440x1080 with 42 Axes>"
            ]
          },
          "metadata": {
            "needs_background": "light"
          }
        }
      ]
    },
    {
      "cell_type": "markdown",
      "metadata": {
        "id": "5i3XHs6zujvd"
      },
      "source": [
        "### Budget and Revenue"
      ]
    },
    {
      "cell_type": "code",
      "metadata": {
        "id": "baqGi1d-umT6",
        "colab": {
          "base_uri": "https://localhost:8080/",
          "height": 553
        },
        "outputId": "8e8b4f95-327b-421e-e91a-4cfa6486470d"
      },
      "source": [
        "plot_df = pd.DataFrame()\n",
        "plot_df['log_budget'] = log_transformation_col(data['budget'])\n",
        "plot_df['log_revenue'] = log_transformation_col(data['revenue'])\n",
        "\n",
        "\n",
        "plot_df.plot(kind='scatter', x='log_budget', y='log_revenue', alpha=0.2)\n",
        "data.plot(kind='scatter', x='budget', y='revenue', alpha=0.2)\n",
        "plt.show()"
      ],
      "execution_count": 33,
      "outputs": [
        {
          "output_type": "display_data",
          "data": {
            "image/png": "[encoded data removed]",
            "text/plain": [
              "<Figure size 432x288 with 1 Axes>"
            ]
          },
          "metadata": {
            "needs_background": "light"
          }
        },
        {
          "output_type": "display_data",
          "data": {
            "image/png": "[encoded data removed]",
            "text/plain": [
              "<Figure size 432x288 with 1 Axes>"
            ]
          },
          "metadata": {
            "needs_background": "light"
          }
        }
      ]
    },
    {
      "cell_type": "markdown",
      "metadata": {
        "id": "g2gJ7LnBguu4"
      },
      "source": [
        "Getting a nicer distribution of bugdet with np.log1p."
      ]
    },
    {
      "cell_type": "markdown",
      "metadata": {
        "id": "NLThxfaG1kBA"
      },
      "source": [
        "### Release and Revenue"
      ]
    },
    {
      "cell_type": "code",
      "metadata": {
        "id": "S72o5Y551nah",
        "colab": {
          "base_uri": "https://localhost:8080/",
          "height": 290
        },
        "outputId": "7f655d54-6a3d-4281-852f-b345d04122ea"
      },
      "source": [
        "data_set.plot(kind='scatter', x='year', y='revenue', alpha=0.2)\n",
        "plt.show()"
      ],
      "execution_count": 34,
      "outputs": [
        {
          "output_type": "display_data",
          "data": {
            "image/png": "[encoded data removed]",
            "text/plain": [
              "<Figure size 432x288 with 1 Axes>"
            ]
          },
          "metadata": {
            "needs_background": "light"
          }
        }
      ]
    },
    {
      "cell_type": "markdown",
      "metadata": {
        "id": "dFtXi9Sd2_1f"
      },
      "source": [
        "### Cast size and Revenue"
      ]
    },
    {
      "cell_type": "code",
      "metadata": {
        "id": "oRQq4L_u3DOH",
        "colab": {
          "base_uri": "https://localhost:8080/",
          "height": 291
        },
        "outputId": "507c5bca-7439-4b5b-c890-dd254ce66af2"
      },
      "source": [
        "data_set.plot(kind='scatter', x='cast_size', y='revenue', alpha=0.2)\n",
        "plt.show()"
      ],
      "execution_count": 35,
      "outputs": [
        {
          "output_type": "display_data",
          "data": {
            "image/png": "[encoded data removed]",
            "text/plain": [
              "<Figure size 432x288 with 1 Axes>"
            ]
          },
          "metadata": {
            "needs_background": "light"
          }
        }
      ]
    },
    {
      "cell_type": "markdown",
      "metadata": {
        "id": "jbcJc5Bwzk_u"
      },
      "source": [
        "## Crew size and Revenue"
      ]
    },
    {
      "cell_type": "code",
      "metadata": {
        "id": "QxygCYZ9zffF",
        "colab": {
          "base_uri": "https://localhost:8080/",
          "height": 291
        },
        "outputId": "92d3edb4-d112-4215-c23a-5bd95dab61a3"
      },
      "source": [
        "data_set.plot(kind='scatter', x='crew_size', y='revenue', alpha=0.2)\n",
        "plt.show()"
      ],
      "execution_count": 36,
      "outputs": [
        {
          "output_type": "display_data",
          "data": {
            "image/png": "[encoded data removed]",
            "text/plain": [
              "<Figure size 432x288 with 1 Axes>"
            ]
          },
          "metadata": {
            "needs_background": "light"
          }
        }
      ]
    },
    {
      "cell_type": "markdown",
      "metadata": {
        "id": "IFtwr8RQz4Hv"
      },
      "source": [
        "## Popularity and Revenue"
      ]
    },
    {
      "cell_type": "code",
      "metadata": {
        "id": "Zso3Pd12zvQM",
        "colab": {
          "base_uri": "https://localhost:8080/",
          "height": 290
        },
        "outputId": "d4b1b1d8-cac7-4604-e9c8-e03adcef1b99"
      },
      "source": [
        "data_set.plot(kind='scatter', x='popularity', y='revenue', alpha=0.2)\n",
        "plt.show()"
      ],
      "execution_count": 37,
      "outputs": [
        {
          "output_type": "display_data",
          "data": {
            "image/png": "[encoded data removed]",
            "text/plain": [
              "<Figure size 432x288 with 1 Axes>"
            ]
          },
          "metadata": {
            "needs_background": "light"
          }
        }
      ]
    },
    {
      "cell_type": "markdown",
      "metadata": {
        "id": "zqKSMPWz4j6A"
      },
      "source": [
        "## Revenue"
      ]
    },
    {
      "cell_type": "code",
      "metadata": {
        "id": "6p-UZCBr4fMz",
        "colab": {
          "base_uri": "https://localhost:8080/",
          "height": 403
        },
        "outputId": "99619e0a-648f-43a3-d112-81ce510234ff"
      },
      "source": [
        "plt.figure(figsize=(12,12))\n",
        "sn.displot(train['revenue'],rug=True)"
      ],
      "execution_count": 38,
      "outputs": [
        {
          "output_type": "execute_result",
          "data": {
            "text/plain": [
              "<seaborn.axisgrid.FacetGrid at 0x7f70fd3e02d0>"
            ]
          },
          "metadata": {},
          "execution_count": 38
        },
        {
          "output_type": "display_data",
          "data": {
            "text/plain": [
              "<Figure size 864x864 with 0 Axes>"
            ]
          },
          "metadata": {}
        },
        {
          "output_type": "display_data",
          "data": {
            "image/png": "[encoded data removed]",
            "text/plain": [
              "<Figure size 360x360 with 1 Axes>"
            ]
          },
          "metadata": {
            "needs_background": "light"
          }
        }
      ]
    },
    {
      "cell_type": "code",
      "metadata": {
        "id": "BvDuJX-Y97Xz",
        "colab": {
          "base_uri": "https://localhost:8080/",
          "height": 458
        },
        "outputId": "bf7ef16e-0fd4-418e-fe68-683ed58c9856"
      },
      "source": [
        "sn.jointplot(x='revenue', y='budget', data=train)"
      ],
      "execution_count": 39,
      "outputs": [
        {
          "output_type": "execute_result",
          "data": {
            "text/plain": [
              "<seaborn.axisgrid.JointGrid at 0x7f70fd54c850>"
            ]
          },
          "metadata": {},
          "execution_count": 39
        },
        {
          "output_type": "display_data",
          "data": {
            "image/png": "[encoded data removed]",
            "text/plain": [
              "<Figure size 432x432 with 3 Axes>"
            ]
          },
          "metadata": {
            "needs_background": "light"
          }
        }
      ]
    },
    {
      "cell_type": "markdown",
      "metadata": {
        "id": "OxdCsZhD93YU"
      },
      "source": [
        "# Correlations"
      ]
    },
    {
      "cell_type": "code",
      "metadata": {
        "id": "_4dE9A-0bBuR",
        "colab": {
          "base_uri": "https://localhost:8080/"
        },
        "outputId": "f720f2a7-0739-466b-9fdf-5d35b7c3838e"
      },
      "source": [
        "data_set['revenue'] = log_transformation_col(data_set['revenue'])\n",
        "data_set['budget'] = log_transformation_col(data_set['budget'])\n",
        "corr_matrix = data_set.corr()\n",
        "corr_matrix[\"revenue\"].sort_values(ascending=False)"
      ],
      "execution_count": 40,
      "outputs": [
        {
          "output_type": "execute_result",
          "data": {
            "text/plain": [
              "revenue                       1.000000\n",
              "budget                        0.498184\n",
              "crew_size                     0.345627\n",
              "cast_size                     0.307218\n",
              "popularity                    0.288506\n",
              "belongs_to_collection         0.256553\n",
              "num_keywords                  0.234985\n",
              "is_adventure                  0.218680\n",
              "english_spoken                0.216379\n",
              "runtime                       0.210098\n",
              "num_genres                    0.190505\n",
              "is_action                     0.166816\n",
              "homepage                      0.143133\n",
              "is_family                     0.135969\n",
              "is_fantasy                    0.123553\n",
              "family_animation              0.109779\n",
              "is_science_fiction            0.100467\n",
              "is_animation                  0.084932\n",
              "is_thriller                   0.062887\n",
              "is_crime                      0.046424\n",
              "is_mystery                    0.039537\n",
              "two_or_more_prod_countries    0.039261\n",
              "year                          0.034943\n",
              "month                         0.031051\n",
              "is_comedy                     0.029877\n",
              "num_prod_countries            0.027966\n",
              "is_horror                     0.013409\n",
              "is_history                    0.012030\n",
              "is_war                        0.010621\n",
              "is_tv_movie                   0.009493\n",
              "is_music                     -0.017286\n",
              "is_western                   -0.024261\n",
              "is_romance                   -0.030570\n",
              "is_drama                     -0.131564\n",
              "original_language            -0.141600\n",
              "is_foreign                   -0.166849\n",
              "is_documentary               -0.193546\n",
              "director                     -0.225257\n",
              "Name: revenue, dtype: float64"
            ]
          },
          "metadata": {},
          "execution_count": 40
        }
      ]
    },
    {
      "cell_type": "code",
      "metadata": {
        "id": "q8NrXxMj-Pjb",
        "colab": {
          "base_uri": "https://localhost:8080/",
          "height": 1000
        },
        "outputId": "e5c4a3a4-80f2-47c3-aa22-811133297c07"
      },
      "source": [
        "plt.subplots(figsize=(20,15))\n",
        "sn.heatmap(corr_matrix, annot=False, linewidths=0.1)"
      ],
      "execution_count": 41,
      "outputs": [
        {
          "output_type": "execute_result",
          "data": {
            "text/plain": [
              "<matplotlib.axes._subplots.AxesSubplot at 0x7f70fc227dd0>"
            ]
          },
          "metadata": {},
          "execution_count": 41
        },
        {
          "output_type": "display_data",
          "data": {
            "image/png": "[encoded data removed]",
            "text/plain": [
              "<Figure size 1440x1080 with 2 Axes>"
            ]
          },
          "metadata": {
            "needs_background": "light"
          }
        }
      ]
    },
    {
      "cell_type": "markdown",
      "metadata": {
        "id": "MTNFPTL9AZXE"
      },
      "source": [
        "Animation and family movies related"
      ]
    },
    {
      "cell_type": "code",
      "metadata": {
        "id": "4_BRPdVYlZoy",
        "colab": {
          "base_uri": "https://localhost:8080/"
        },
        "outputId": "5f624aad-7355-461a-8ea4-c189cea5cef4"
      },
      "source": [
        "train.info()"
      ],
      "execution_count": 42,
      "outputs": [
        {
          "output_type": "stream",
          "name": "stdout",
          "text": [
            "<class 'pandas.core.frame.DataFrame'>\n",
            "RangeIndex: 3000 entries, 0 to 2999\n",
            "Data columns (total 23 columns):\n",
            " #   Column                 Non-Null Count  Dtype  \n",
            "---  ------                 --------------  -----  \n",
            " 0   id                     3000 non-null   int64  \n",
            " 1   belongs_to_collection  604 non-null    object \n",
            " 2   budget                 3000 non-null   int64  \n",
            " 3   genres                 2993 non-null   object \n",
            " 4   homepage               946 non-null    object \n",
            " 5   imdb_id                3000 non-null   object \n",
            " 6   original_language      3000 non-null   object \n",
            " 7   original_title         3000 non-null   object \n",
            " 8   overview               2992 non-null   object \n",
            " 9   popularity             3000 non-null   float64\n",
            " 10  poster_path            2999 non-null   object \n",
            " 11  production_companies   2844 non-null   object \n",
            " 12  production_countries   2945 non-null   object \n",
            " 13  release_date           3000 non-null   object \n",
            " 14  runtime                2998 non-null   float64\n",
            " 15  spoken_languages       2980 non-null   object \n",
            " 16  status                 3000 non-null   object \n",
            " 17  tagline                2403 non-null   object \n",
            " 18  title                  3000 non-null   object \n",
            " 19  Keywords               2724 non-null   object \n",
            " 20  cast                   2987 non-null   object \n",
            " 21  crew                   2984 non-null   object \n",
            " 22  revenue                3000 non-null   int64  \n",
            "dtypes: float64(2), int64(3), object(18)\n",
            "memory usage: 539.2+ KB\n"
          ]
        }
      ]
    },
    {
      "cell_type": "markdown",
      "metadata": {
        "id": "KUPIH0meB_UP"
      },
      "source": [
        "# Pipeline"
      ]
    },
    {
      "cell_type": "markdown",
      "metadata": {
        "id": "9GLhCb6P4-_I"
      },
      "source": [
        "### Selected features"
      ]
    },
    {
      "cell_type": "markdown",
      "metadata": {
        "id": "THrZfkZmhKQS"
      },
      "source": [
        "Features to use i training data set"
      ]
    },
    {
      "cell_type": "code",
      "metadata": {
        "id": "dARAE3pP49W1"
      },
      "source": [
        "selected_features = ['budget', 'popularity', 'crew_size', 'cast_size', 'belongs_to_collection', 'is_adventure', 'homepage', 'runtime', 'num_genres', 'is_action', 'english_spoken', 'num_keywords', 'director']\n",
        "#selected_features = ['budget', 'popularity', 'cast_size', 'director']"
      ],
      "execution_count": 43,
      "outputs": []
    },
    {
      "cell_type": "markdown",
      "metadata": {
        "id": "4kbIyFgvpt_9"
      },
      "source": [
        "### Define pipeline"
      ]
    },
    {
      "cell_type": "code",
      "metadata": {
        "id": "bcvr9zbiCAyx"
      },
      "source": [
        "from sklearn.pipeline import Pipeline\n",
        "from sklearn.preprocessing import StandardScaler\n",
        "from sklearn.compose import ColumnTransformer\n",
        "from sklearn.preprocessing import OneHotEncoder\n",
        "from sklearn.preprocessing import OrdinalEncoder\n",
        "from sklearn.impute import SimpleImputer\n",
        "from sklearn.compose import make_column_selector\n",
        "from sklearn.base import BaseEstimator\n",
        "from sklearn.base import TransformerMixin\n",
        "\n",
        "features = []\n",
        "\n",
        "class FeaturesToNumbers(BaseEstimator, TransformerMixin):\n",
        "    def __init__(self):\n",
        "        pass\n",
        "    def fit(self, X):\n",
        "        return self\n",
        "    def transform(self, X):\n",
        "        X = create_genre_cols(X)\n",
        "        if is_tv_movie_exists(X):\n",
        "          X = X.drop('is_tv_movie', axis=1)\n",
        "        X['belongs_to_collection'] = has_value(X['belongs_to_collection'])\n",
        "        X['homepage'] = has_value(X['homepage'])\n",
        "        X = enc_original_language(X)\n",
        "        X = get_lowest_company_id(X)\n",
        "        X = count_prod_countries(X)\n",
        "        X = prod_countries_over_1(X)\n",
        "        X = convert_dates(X)\n",
        "        X = cast_size_col(X)\n",
        "        X = crew_size_director_col(X)\n",
        "        X = has_english_as_lang(X)\n",
        "        X = count_keywords(X)\n",
        "\n",
        "        # Log transform\n",
        "        X['budget'] = log_transformation_col(X['budget'])\n",
        "        X['popularity'] = log_transformation_col(X['popularity'])\n",
        "        X['crew_size'] = log_transformation_col(X['crew_size'])\n",
        "        X['cast_size'] = log_transformation_col(X['cast_size'])\n",
        "\n",
        "        X = X.drop(features_to_be_removed_last, axis=1)\n",
        "        X = combine_selected_features(X)\n",
        "        X = X.filter(items=selected_features)\n",
        "        return X\n",
        "\n",
        "\n",
        "num_pipeline = Pipeline([\n",
        "            ('feature_num', FeaturesToNumbers()),\n",
        "            ('imputer', SimpleImputer(strategy=\"median\")),\n",
        "            ('std_scaler', StandardScaler()),\n",
        "        ])\n",
        "\n",
        "full_pipeline = ColumnTransformer([\n",
        "             (\"num\", num_pipeline, list(X_train.drop(features_to_be_removed_first, axis=1))),\n",
        "             #(\"cat\", OrdinalEncoder(), []),\n",
        "         ])"
      ],
      "execution_count": 44,
      "outputs": []
    },
    {
      "cell_type": "markdown",
      "metadata": {
        "id": "bo_urGbHbpV0"
      },
      "source": [
        "### Select features to use and prepare for training."
      ]
    },
    {
      "cell_type": "markdown",
      "metadata": {
        "id": "ieDhrSZzhTYT"
      },
      "source": [
        "Prepare train set"
      ]
    },
    {
      "cell_type": "code",
      "metadata": {
        "id": "MRHXHeiqKnRk",
        "colab": {
          "base_uri": "https://localhost:8080/"
        },
        "outputId": "f7504df1-32b2-4357-eee1-654b9568413e"
      },
      "source": [
        "#train_prep = train.filter(items=['budget', 'popularity', 'crew_size', 'cast_size', 'belongs_to_collection', 'is_adventure', 'homepage'])\n",
        "train_prep = X_train.drop(features_to_be_removed_first, axis=1)\n",
        "train_prep = full_pipeline.fit_transform(train_prep)\n",
        "train_prep.shape"
      ],
      "execution_count": 45,
      "outputs": [
        {
          "output_type": "execute_result",
          "data": {
            "text/plain": [
              "(2400, 13)"
            ]
          },
          "metadata": {},
          "execution_count": 45
        }
      ]
    },
    {
      "cell_type": "markdown",
      "metadata": {
        "id": "tDiay0JxhVC_"
      },
      "source": [
        "Prepare test set"
      ]
    },
    {
      "cell_type": "code",
      "metadata": {
        "id": "KCeYUlRe1dpB",
        "colab": {
          "base_uri": "https://localhost:8080/"
        },
        "outputId": "b8a82747-79e7-41fe-deaa-59c21a77460d"
      },
      "source": [
        "test_prep = y_train.drop(features_to_be_removed_first, axis=1)\n",
        "test_prep = full_pipeline.fit_transform(test_prep)\n",
        "test_prep.shape"
      ],
      "execution_count": 46,
      "outputs": [
        {
          "output_type": "execute_result",
          "data": {
            "text/plain": [
              "(600, 13)"
            ]
          },
          "metadata": {},
          "execution_count": 46
        }
      ]
    },
    {
      "cell_type": "markdown",
      "metadata": {
        "id": "Q33ZN7cYhYzw"
      },
      "source": [
        "Log transform revenue columns used for training and testing"
      ]
    },
    {
      "cell_type": "code",
      "metadata": {
        "id": "IE1Im0w50et0"
      },
      "source": [
        "X_test = log_transformation_col(X_test)\n",
        "y_test = log_transformation_col(y_test)"
      ],
      "execution_count": 47,
      "outputs": []
    },
    {
      "cell_type": "markdown",
      "metadata": {
        "id": "AdvqcpmPaOh3"
      },
      "source": [
        "# Training"
      ]
    },
    {
      "cell_type": "code",
      "metadata": {
        "id": "ilxGsMxB7UxS",
        "colab": {
          "base_uri": "https://localhost:8080/"
        },
        "outputId": "4295f380-4f11-4f65-d38b-2fe2d25f2932"
      },
      "source": [
        "print(train_prep.shape)\n",
        "print(test_prep.shape)\n",
        "print(X_test.shape)\n",
        "print(y_test.shape)"
      ],
      "execution_count": 48,
      "outputs": [
        {
          "output_type": "stream",
          "name": "stdout",
          "text": [
            "(2400, 13)\n",
            "(600, 13)\n",
            "(2400,)\n",
            "(600,)\n"
          ]
        }
      ]
    },
    {
      "cell_type": "markdown",
      "metadata": {
        "id": "RLyRI3uaaRDM"
      },
      "source": [
        "## Linear Regression"
      ]
    },
    {
      "cell_type": "code",
      "metadata": {
        "id": "ewn1kQ0FZbxu"
      },
      "source": [
        "from sklearn.linear_model import LinearRegression\n",
        "\n",
        "lin_reg = LinearRegression()\n",
        "linear_model = lin_reg.fit(train_prep, X_test)"
      ],
      "execution_count": 49,
      "outputs": []
    },
    {
      "cell_type": "code",
      "metadata": {
        "id": "s4H1jL5c2cxn",
        "colab": {
          "base_uri": "https://localhost:8080/"
        },
        "outputId": "89f5482d-59b7-46aa-d822-47f411f80f47"
      },
      "source": [
        "from sklearn.metrics import mean_squared_log_error\n",
        "from sklearn.metrics import mean_squared_error\n",
        "\n",
        "y_pred = linear_model.predict(test_prep)\n",
        "\n",
        "lin_msle = mean_squared_error(y_test, y_pred)\n",
        "lin_rmsle = np.sqrt(lin_msle)\n",
        "lin_rmsle"
      ],
      "execution_count": 50,
      "outputs": [
        {
          "output_type": "execute_result",
          "data": {
            "text/plain": [
              "2.2287240013846383"
            ]
          },
          "metadata": {},
          "execution_count": 50
        }
      ]
    },
    {
      "cell_type": "markdown",
      "metadata": {
        "id": "XvD-gXuc4IIb"
      },
      "source": [
        "## Random Forest"
      ]
    },
    {
      "cell_type": "markdown",
      "metadata": {
        "id": "sMy743pP5V79"
      },
      "source": [
        "#### Old"
      ]
    },
    {
      "cell_type": "code",
      "metadata": {
        "id": "6VQstFiw4He0"
      },
      "source": [
        "from sklearn.ensemble import RandomForestRegressor\n",
        "\n",
        "forest_reg = RandomForestRegressor(n_estimators=500, max_features=4, random_state=42)\n",
        "forest_model = forest_reg.fit(train_prep, X_test)"
      ],
      "execution_count": 51,
      "outputs": []
    },
    {
      "cell_type": "code",
      "metadata": {
        "id": "SdruwbRz4nyf",
        "colab": {
          "base_uri": "https://localhost:8080/",
          "height": 331
        },
        "outputId": "25c65456-ceaa-40f0-c33e-7f94f1bfc3d9"
      },
      "source": [
        "from sklearn.metrics import mean_squared_log_error\n",
        "from sklearn.metrics import mean_squared_error\n",
        "\n",
        "y_pred = forest_model.predict(test_prep)\n",
        "\n",
        "lin_msle = mean_squared_log_error(y_test, y_pred)\n",
        "lin_rmsle = np.sqrt(lin_msle)\n",
        "print(\"Root mean squared log error:\", lin_rmsle)\n",
        "\n",
        "lin_mse = mean_squared_error(y_test, y_pred)\n",
        "lin_rmse = np.sqrt(lin_mse)\n",
        "print(\"Root mean squared error:    \", lin_rmse)\n",
        "\n",
        "importances = forest_model.feature_importances_\n",
        "forest_importances = pd.Series(importances, index=selected_features)\n",
        "\n",
        "fig, ax = plt.subplots()\n",
        "forest_importances.plot.bar(ax=ax)\n",
        "ax.set_title(\"Feature importances using MDI\")\n",
        "ax.set_ylabel(\"Mean decrease in impurity\")\n",
        "fig.tight_layout()"
      ],
      "execution_count": 52,
      "outputs": [
        {
          "output_type": "stream",
          "name": "stdout",
          "text": [
            "Root mean squared log error: 0.19331064494127098\n",
            "Root mean squared error:     2.198343350895858\n"
          ]
        },
        {
          "output_type": "display_data",
          "data": {
            "image/png": "[encoded data removed]",
            "text/plain": [
              "<Figure size 432x288 with 1 Axes>"
            ]
          },
          "metadata": {
            "needs_background": "light"
          }
        }
      ]
    },
    {
      "cell_type": "markdown",
      "metadata": {
        "id": "BYc2qjmq3BJb"
      },
      "source": [
        "#### New parameters (best result, used in web app)"
      ]
    },
    {
      "cell_type": "code",
      "metadata": {
        "id": "AF9EFSfArp0L"
      },
      "source": [
        "rf_reg = RandomForestRegressor(bootstrap=False, max_depth=10, max_features='sqrt', min_samples_leaf=4, min_samples_split=2, n_estimators=500, random_state=42)\n",
        "rf_model = rf_reg.fit(train_prep, X_test)"
      ],
      "execution_count": 53,
      "outputs": []
    },
    {
      "cell_type": "code",
      "metadata": {
        "id": "faR3NZWvrz3N",
        "colab": {
          "base_uri": "https://localhost:8080/"
        },
        "outputId": "3cc32f80-3bd5-4c6f-adb5-669b1dc486d6"
      },
      "source": [
        "y_pred = rf_model.predict(test_prep)\n",
        "\n",
        "error = mean_squared_error(y_test, y_pred)\n",
        "root_error = np.sqrt(error)\n",
        "print(\"Root mean squared log error: \", root_error)"
      ],
      "execution_count": 64,
      "outputs": [
        {
          "output_type": "stream",
          "name": "stdout",
          "text": [
            "Root mean squared log error:  2.1863159966362353\n"
          ]
        }
      ]
    },
    {
      "cell_type": "markdown",
      "metadata": {
        "id": "lxCxWhFAhnUm"
      },
      "source": [
        "RFR giving the best results"
      ]
    },
    {
      "cell_type": "markdown",
      "metadata": {
        "id": "-yxE4uhu5osY"
      },
      "source": [
        "Feature importances"
      ]
    },
    {
      "cell_type": "code",
      "metadata": {
        "id": "hxoe-GRF5n4S",
        "colab": {
          "base_uri": "https://localhost:8080/",
          "height": 297
        },
        "outputId": "f7b0e9f7-f282-4e95-9688-32396ea7c7e2"
      },
      "source": [
        "importances = rf_model.feature_importances_\n",
        "forest_importances = pd.Series(importances, index=selected_features)\n",
        "\n",
        "fig, ax = plt.subplots()\n",
        "forest_importances.plot.bar(ax=ax)\n",
        "ax.set_title(\"Feature importances using MDI\")\n",
        "ax.set_ylabel(\"Mean decrease in impurity\")\n",
        "fig.tight_layout()"
      ],
      "execution_count": 55,
      "outputs": [
        {
          "output_type": "display_data",
          "data": {
            "image/png": "[encoded data removed]",
            "text/plain": [
              "<Figure size 432x288 with 1 Axes>"
            ]
          },
          "metadata": {
            "needs_background": "light"
          }
        }
      ]
    },
    {
      "cell_type": "markdown",
      "metadata": {
        "id": "VVgQ2sDjgwgX"
      },
      "source": [
        "## XGB"
      ]
    },
    {
      "cell_type": "code",
      "metadata": {
        "id": "NgsxLVFSgwSE"
      },
      "source": [
        "import xgboost as xgb\n",
        "\n",
        "params = {\n",
        "    'objective': 'reg:squarederror',\n",
        "    'eta': 0.01,\n",
        "    'colsample_bytree': 0.4,\n",
        "    'learning_rate': 0.01,\n",
        "    'max_depth': 12,\n",
        "    'alpha': 10,\n",
        "    'n_estimators': 2500,\n",
        "    'num_feature': 4\n",
        "}\n",
        "\n",
        "xg_reg = xgb.XGBRegressor(objective ='reg:squarederror', colsample_bytree = 0.4, learning_rate = 0.01,\n",
        "                max_depth = 12, alpha = 10, n_estimators = 2500, num_feature=4)\n",
        "\n",
        "xg_model = xg_reg.fit(train_prep, X_test)"
      ],
      "execution_count": 59,
      "outputs": []
    },
    {
      "cell_type": "code",
      "metadata": {
        "id": "BqXkUFZ1g-be",
        "colab": {
          "base_uri": "https://localhost:8080/"
        },
        "outputId": "3669a6a7-cff1-4e1b-a2ef-110464c4691d"
      },
      "source": [
        "y_pred = xg_model.predict(test_prep)\n",
        "\n",
        "error = mean_squared_error(y_test, y_pred)\n",
        "root_error = np.sqrt(error)\n",
        "print(root_error)"
      ],
      "execution_count": 60,
      "outputs": [
        {
          "output_type": "stream",
          "name": "stdout",
          "text": [
            "2.260113796340424\n"
          ]
        }
      ]
    },
    {
      "cell_type": "markdown",
      "metadata": {
        "id": "i74v4sg_fnlv"
      },
      "source": [
        "# Export model"
      ]
    },
    {
      "cell_type": "code",
      "metadata": {
        "id": "twasdIslfpMk"
      },
      "source": [
        "import pickle\n",
        "\n",
        "#pickle.dump(rf_model, open('rf_model_4.pkl', 'wb'))"
      ],
      "execution_count": 61,
      "outputs": []
    },
    {
      "cell_type": "markdown",
      "metadata": {
        "id": "fU6MqBDndJpu"
      },
      "source": [
        "Function used as pipeline in the web app"
      ]
    },
    {
      "cell_type": "code",
      "metadata": {
        "id": "R8vHEmKjYN5m"
      },
      "source": [
        "def pipeline_func(X):\n",
        "  X['budget'] = np.log1p(X['budget'])\n",
        "  X['popularity'] = np.log1p(X['popularity'])\n",
        "  X['cast_size'] = np.log1p(X['cast_size'])\n",
        "\n",
        "  scaler = StandardScaler()\n",
        "  scaledX = scaler.fit_transform(X)\n",
        "\n",
        "  return X"
      ],
      "execution_count": 62,
      "outputs": []
    }
  ]
}